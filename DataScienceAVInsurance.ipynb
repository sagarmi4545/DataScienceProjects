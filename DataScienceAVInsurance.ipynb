{
 "cells": [
  {
   "cell_type": "markdown",
   "metadata": {},
   "source": [
    "## Bank Customer Churn Prediction"
   ]
  },
  {
   "cell_type": "code",
   "execution_count": 2,
   "metadata": {},
   "outputs": [],
   "source": [
    "import numpy as np\n",
    "import pandas as pd\n",
    "import seaborn as sns\n",
    "import matplotlib.pyplot as plt\n",
    "%matplotlib inline\n",
    "from sklearn.preprocessing import LabelEncoder\n",
    "from sklearn.preprocessing import StandardScaler\n",
    "from sklearn.linear_model import LogisticRegression\n",
    "from sklearn.model_selection import KFold, StratifiedKFold, train_test_split\n",
    "from sklearn.metrics import roc_auc_score, accuracy_score, confusion_matrix, roc_curve, precision_score, recall_score, precision_recall_curve\n",
    "import warnings\n",
    "warnings.simplefilter(action='ignore', category=FutureWarning)\n",
    "warnings.simplefilter(action='ignore', category=UserWarning)"
   ]
  },
  {
   "cell_type": "markdown",
   "metadata": {},
   "source": [
    "### Loading Data"
   ]
  },
  {
   "cell_type": "code",
   "execution_count": 3,
   "metadata": {},
   "outputs": [],
   "source": [
    "df = pd.read_csv('train_qnU1GcL.csv')"
   ]
  },
  {
   "cell_type": "code",
   "execution_count": 82,
   "metadata": {},
   "outputs": [],
   "source": [
    "test=pd.read_csv('test_LxCaReE_DvdCKVT2_7rMflxW.csv')"
   ]
  },
  {
   "cell_type": "code",
   "execution_count": 4,
   "metadata": {},
   "outputs": [
    {
     "data": {
      "text/plain": [
       "id                                     0\n",
       "perc_premium_paid_by_cash_credit       0\n",
       "age_in_days                            0\n",
       "Income                                 0\n",
       "Count_3-6_months_late                 97\n",
       "Count_6-12_months_late                97\n",
       "Count_more_than_12_months_late        97\n",
       "application_underwriting_score      2974\n",
       "no_of_premiums_paid                    0\n",
       "sourcing_channel                       0\n",
       "residence_area_type                    0\n",
       "target                                 0\n",
       "dtype: int64"
      ]
     },
     "execution_count": 4,
     "metadata": {},
     "output_type": "execute_result"
    }
   ],
   "source": [
    "pd.isnull(df).sum()"
   ]
  },
  {
   "cell_type": "code",
   "execution_count": 83,
   "metadata": {},
   "outputs": [
    {
     "data": {
      "text/plain": [
       "id                                     0\n",
       "perc_premium_paid_by_cash_credit       0\n",
       "age_in_days                            0\n",
       "Income                                 0\n",
       "Count_3-6_months_late                 31\n",
       "Count_6-12_months_late                31\n",
       "Count_more_than_12_months_late        31\n",
       "application_underwriting_score      1323\n",
       "no_of_premiums_paid                    0\n",
       "sourcing_channel                       0\n",
       "residence_area_type                    0\n",
       "dtype: int64"
      ]
     },
     "execution_count": 83,
     "metadata": {},
     "output_type": "execute_result"
    }
   ],
   "source": [
    "test.isnull().sum()"
   ]
  },
  {
   "cell_type": "markdown",
   "metadata": {},
   "source": [
    "# Filling Missing Values"
   ]
  },
  {
   "cell_type": "code",
   "execution_count": 5,
   "metadata": {},
   "outputs": [
    {
     "data": {
      "text/plain": [
       "0.0     66801\n",
       "1.0      8826\n",
       "2.0      2519\n",
       "3.0       954\n",
       "4.0       374\n",
       "5.0       168\n",
       "6.0        68\n",
       "7.0        23\n",
       "8.0        15\n",
       "9.0         4\n",
       "11.0        1\n",
       "12.0        1\n",
       "13.0        1\n",
       "10.0        1\n",
       "Name: Count_3-6_months_late, dtype: int64"
      ]
     },
     "execution_count": 5,
     "metadata": {},
     "output_type": "execute_result"
    }
   ],
   "source": [
    "df['Count_3-6_months_late'].value_counts()"
   ]
  },
  {
   "cell_type": "code",
   "execution_count": 6,
   "metadata": {},
   "outputs": [],
   "source": [
    "df['Count_3-6_months_late'].fillna(0, inplace=True)"
   ]
  },
  {
   "cell_type": "code",
   "execution_count": 84,
   "metadata": {},
   "outputs": [],
   "source": [
    "test['Count_3-6_months_late'].fillna(0, inplace=True)"
   ]
  },
  {
   "cell_type": "code",
   "execution_count": 7,
   "metadata": {},
   "outputs": [
    {
     "data": {
      "text/plain": [
       "0.0     66898\n",
       "1.0      8826\n",
       "2.0      2519\n",
       "3.0       954\n",
       "4.0       374\n",
       "5.0       168\n",
       "6.0        68\n",
       "7.0        23\n",
       "8.0        15\n",
       "9.0         4\n",
       "11.0        1\n",
       "12.0        1\n",
       "13.0        1\n",
       "10.0        1\n",
       "Name: Count_3-6_months_late, dtype: int64"
      ]
     },
     "execution_count": 7,
     "metadata": {},
     "output_type": "execute_result"
    }
   ],
   "source": [
    "df['Count_3-6_months_late'].value_counts()"
   ]
  },
  {
   "cell_type": "code",
   "execution_count": 8,
   "metadata": {},
   "outputs": [
    {
     "data": {
      "text/plain": [
       "0.0     75831\n",
       "1.0      2680\n",
       "2.0       693\n",
       "3.0       317\n",
       "4.0       130\n",
       "5.0        46\n",
       "6.0        26\n",
       "7.0        11\n",
       "8.0         5\n",
       "10.0        4\n",
       "9.0         4\n",
       "14.0        2\n",
       "11.0        2\n",
       "13.0        2\n",
       "17.0        1\n",
       "12.0        1\n",
       "15.0        1\n",
       "Name: Count_6-12_months_late, dtype: int64"
      ]
     },
     "execution_count": 8,
     "metadata": {},
     "output_type": "execute_result"
    }
   ],
   "source": [
    "df['Count_6-12_months_late'].value_counts()"
   ]
  },
  {
   "cell_type": "code",
   "execution_count": 9,
   "metadata": {},
   "outputs": [],
   "source": [
    "df['Count_6-12_months_late'].fillna(0, inplace=True)"
   ]
  },
  {
   "cell_type": "code",
   "execution_count": 85,
   "metadata": {},
   "outputs": [],
   "source": [
    "test['Count_6-12_months_late'].fillna(0, inplace=True)"
   ]
  },
  {
   "cell_type": "code",
   "execution_count": 10,
   "metadata": {},
   "outputs": [
    {
     "data": {
      "text/plain": [
       "0.0     75928\n",
       "1.0      2680\n",
       "2.0       693\n",
       "3.0       317\n",
       "4.0       130\n",
       "5.0        46\n",
       "6.0        26\n",
       "7.0        11\n",
       "8.0         5\n",
       "10.0        4\n",
       "9.0         4\n",
       "14.0        2\n",
       "11.0        2\n",
       "13.0        2\n",
       "17.0        1\n",
       "12.0        1\n",
       "15.0        1\n",
       "Name: Count_6-12_months_late, dtype: int64"
      ]
     },
     "execution_count": 10,
     "metadata": {},
     "output_type": "execute_result"
    }
   ],
   "source": [
    "df['Count_6-12_months_late'].value_counts()"
   ]
  },
  {
   "cell_type": "code",
   "execution_count": 11,
   "metadata": {},
   "outputs": [
    {
     "data": {
      "text/plain": [
       "0.0     76038\n",
       "1.0      2996\n",
       "2.0       498\n",
       "3.0       151\n",
       "4.0        48\n",
       "5.0        13\n",
       "6.0         6\n",
       "7.0         3\n",
       "8.0         2\n",
       "11.0        1\n",
       "Name: Count_more_than_12_months_late, dtype: int64"
      ]
     },
     "execution_count": 11,
     "metadata": {},
     "output_type": "execute_result"
    }
   ],
   "source": [
    "df['Count_more_than_12_months_late'].value_counts()"
   ]
  },
  {
   "cell_type": "code",
   "execution_count": 12,
   "metadata": {},
   "outputs": [],
   "source": [
    "df['Count_more_than_12_months_late'].fillna(0, inplace=True)"
   ]
  },
  {
   "cell_type": "code",
   "execution_count": 86,
   "metadata": {},
   "outputs": [],
   "source": [
    "test['Count_more_than_12_months_late'].fillna(0, inplace=True)"
   ]
  },
  {
   "cell_type": "code",
   "execution_count": 13,
   "metadata": {},
   "outputs": [
    {
     "data": {
      "text/plain": [
       "0.0     76135\n",
       "1.0      2996\n",
       "2.0       498\n",
       "3.0       151\n",
       "4.0        48\n",
       "5.0        13\n",
       "6.0         6\n",
       "7.0         3\n",
       "8.0         2\n",
       "11.0        1\n",
       "Name: Count_more_than_12_months_late, dtype: int64"
      ]
     },
     "execution_count": 13,
     "metadata": {},
     "output_type": "execute_result"
    }
   ],
   "source": [
    "df['Count_more_than_12_months_late'].value_counts()"
   ]
  },
  {
   "cell_type": "code",
   "execution_count": 15,
   "metadata": {},
   "outputs": [
    {
     "data": {
      "text/plain": [
       "99.21"
      ]
     },
     "execution_count": 15,
     "metadata": {},
     "output_type": "execute_result"
    }
   ],
   "source": [
    "df['application_underwriting_score'].median()"
   ]
  },
  {
   "cell_type": "code",
   "execution_count": 87,
   "metadata": {},
   "outputs": [
    {
     "data": {
      "text/plain": [
       "99.21"
      ]
     },
     "execution_count": 87,
     "metadata": {},
     "output_type": "execute_result"
    }
   ],
   "source": [
    "test['application_underwriting_score'].median()"
   ]
  },
  {
   "cell_type": "code",
   "execution_count": 16,
   "metadata": {},
   "outputs": [],
   "source": [
    "df['application_underwriting_score'].fillna(99.21, inplace=True)"
   ]
  },
  {
   "cell_type": "code",
   "execution_count": 88,
   "metadata": {},
   "outputs": [],
   "source": [
    "test['application_underwriting_score'].fillna(99.21, inplace=True)"
   ]
  },
  {
   "cell_type": "code",
   "execution_count": 17,
   "metadata": {},
   "outputs": [
    {
     "data": {
      "text/plain": [
       "id                                    int64\n",
       "perc_premium_paid_by_cash_credit    float64\n",
       "age_in_days                           int64\n",
       "Income                                int64\n",
       "Count_3-6_months_late               float64\n",
       "Count_6-12_months_late              float64\n",
       "Count_more_than_12_months_late      float64\n",
       "application_underwriting_score      float64\n",
       "no_of_premiums_paid                   int64\n",
       "sourcing_channel                     object\n",
       "residence_area_type                  object\n",
       "target                                int64\n",
       "dtype: object"
      ]
     },
     "execution_count": 17,
     "metadata": {},
     "output_type": "execute_result"
    }
   ],
   "source": [
    "df.dtypes"
   ]
  },
  {
   "cell_type": "code",
   "execution_count": null,
   "metadata": {},
   "outputs": [],
   "source": []
  },
  {
   "cell_type": "code",
   "execution_count": null,
   "metadata": {},
   "outputs": [],
   "source": []
  },
  {
   "cell_type": "code",
   "execution_count": 18,
   "metadata": {},
   "outputs": [],
   "source": [
    "df = pd.concat([df,pd.get_dummies(df['sourcing_channel'],prefix = str('source'),prefix_sep='_')],axis = 1)"
   ]
  },
  {
   "cell_type": "code",
   "execution_count": 89,
   "metadata": {},
   "outputs": [],
   "source": [
    "test = pd.concat([test,pd.get_dummies(test['sourcing_channel'],prefix = str('source'),prefix_sep='_')],axis = 1)"
   ]
  },
  {
   "cell_type": "code",
   "execution_count": 20,
   "metadata": {},
   "outputs": [],
   "source": [
    "df = pd.concat([df,pd.get_dummies(df['residence_area_type'],prefix = str('residence'),prefix_sep='_')],axis = 1)"
   ]
  },
  {
   "cell_type": "code",
   "execution_count": 90,
   "metadata": {},
   "outputs": [],
   "source": [
    "test = pd.concat([test,pd.get_dummies(test['residence_area_type'],prefix = str('residence'),prefix_sep='_')],axis = 1)"
   ]
  },
  {
   "cell_type": "code",
   "execution_count": 22,
   "metadata": {},
   "outputs": [],
   "source": [
    "df=df.drop([\"sourcing_channel\", \"residence_area_type\"],1)"
   ]
  },
  {
   "cell_type": "code",
   "execution_count": 91,
   "metadata": {},
   "outputs": [],
   "source": [
    "test=test.drop([\"sourcing_channel\", \"residence_area_type\"],1)"
   ]
  },
  {
   "cell_type": "code",
   "execution_count": null,
   "metadata": {},
   "outputs": [],
   "source": []
  },
  {
   "cell_type": "code",
   "execution_count": 23,
   "metadata": {},
   "outputs": [
    {
     "data": {
      "text/html": [
       "<div>\n",
       "<style scoped>\n",
       "    .dataframe tbody tr th:only-of-type {\n",
       "        vertical-align: middle;\n",
       "    }\n",
       "\n",
       "    .dataframe tbody tr th {\n",
       "        vertical-align: top;\n",
       "    }\n",
       "\n",
       "    .dataframe thead th {\n",
       "        text-align: right;\n",
       "    }\n",
       "</style>\n",
       "<table border=\"1\" class=\"dataframe\">\n",
       "  <thead>\n",
       "    <tr style=\"text-align: right;\">\n",
       "      <th></th>\n",
       "      <th>id</th>\n",
       "      <th>perc_premium_paid_by_cash_credit</th>\n",
       "      <th>age_in_days</th>\n",
       "      <th>Income</th>\n",
       "      <th>Count_3-6_months_late</th>\n",
       "      <th>Count_6-12_months_late</th>\n",
       "      <th>Count_more_than_12_months_late</th>\n",
       "      <th>application_underwriting_score</th>\n",
       "      <th>no_of_premiums_paid</th>\n",
       "      <th>target</th>\n",
       "      <th>source_A</th>\n",
       "      <th>source_B</th>\n",
       "      <th>source_C</th>\n",
       "      <th>source_D</th>\n",
       "      <th>source_E</th>\n",
       "      <th>residence_Rural</th>\n",
       "      <th>residence_Urban</th>\n",
       "    </tr>\n",
       "  </thead>\n",
       "  <tbody>\n",
       "    <tr>\n",
       "      <th>0</th>\n",
       "      <td>110936</td>\n",
       "      <td>0.429</td>\n",
       "      <td>12058</td>\n",
       "      <td>355060</td>\n",
       "      <td>0.0</td>\n",
       "      <td>0.0</td>\n",
       "      <td>0.0</td>\n",
       "      <td>99.02</td>\n",
       "      <td>13</td>\n",
       "      <td>1</td>\n",
       "      <td>0</td>\n",
       "      <td>0</td>\n",
       "      <td>1</td>\n",
       "      <td>0</td>\n",
       "      <td>0</td>\n",
       "      <td>0</td>\n",
       "      <td>1</td>\n",
       "    </tr>\n",
       "    <tr>\n",
       "      <th>1</th>\n",
       "      <td>41492</td>\n",
       "      <td>0.010</td>\n",
       "      <td>21546</td>\n",
       "      <td>315150</td>\n",
       "      <td>0.0</td>\n",
       "      <td>0.0</td>\n",
       "      <td>0.0</td>\n",
       "      <td>99.89</td>\n",
       "      <td>21</td>\n",
       "      <td>1</td>\n",
       "      <td>1</td>\n",
       "      <td>0</td>\n",
       "      <td>0</td>\n",
       "      <td>0</td>\n",
       "      <td>0</td>\n",
       "      <td>0</td>\n",
       "      <td>1</td>\n",
       "    </tr>\n",
       "    <tr>\n",
       "      <th>2</th>\n",
       "      <td>31300</td>\n",
       "      <td>0.917</td>\n",
       "      <td>17531</td>\n",
       "      <td>84140</td>\n",
       "      <td>2.0</td>\n",
       "      <td>3.0</td>\n",
       "      <td>1.0</td>\n",
       "      <td>98.69</td>\n",
       "      <td>7</td>\n",
       "      <td>0</td>\n",
       "      <td>0</td>\n",
       "      <td>0</td>\n",
       "      <td>1</td>\n",
       "      <td>0</td>\n",
       "      <td>0</td>\n",
       "      <td>1</td>\n",
       "      <td>0</td>\n",
       "    </tr>\n",
       "    <tr>\n",
       "      <th>3</th>\n",
       "      <td>19415</td>\n",
       "      <td>0.049</td>\n",
       "      <td>15341</td>\n",
       "      <td>250510</td>\n",
       "      <td>0.0</td>\n",
       "      <td>0.0</td>\n",
       "      <td>0.0</td>\n",
       "      <td>99.57</td>\n",
       "      <td>9</td>\n",
       "      <td>1</td>\n",
       "      <td>1</td>\n",
       "      <td>0</td>\n",
       "      <td>0</td>\n",
       "      <td>0</td>\n",
       "      <td>0</td>\n",
       "      <td>0</td>\n",
       "      <td>1</td>\n",
       "    </tr>\n",
       "    <tr>\n",
       "      <th>4</th>\n",
       "      <td>99379</td>\n",
       "      <td>0.052</td>\n",
       "      <td>31400</td>\n",
       "      <td>198680</td>\n",
       "      <td>0.0</td>\n",
       "      <td>0.0</td>\n",
       "      <td>0.0</td>\n",
       "      <td>99.87</td>\n",
       "      <td>12</td>\n",
       "      <td>1</td>\n",
       "      <td>0</td>\n",
       "      <td>1</td>\n",
       "      <td>0</td>\n",
       "      <td>0</td>\n",
       "      <td>0</td>\n",
       "      <td>0</td>\n",
       "      <td>1</td>\n",
       "    </tr>\n",
       "  </tbody>\n",
       "</table>\n",
       "</div>"
      ],
      "text/plain": [
       "       id  perc_premium_paid_by_cash_credit  age_in_days  Income  \\\n",
       "0  110936                             0.429        12058  355060   \n",
       "1   41492                             0.010        21546  315150   \n",
       "2   31300                             0.917        17531   84140   \n",
       "3   19415                             0.049        15341  250510   \n",
       "4   99379                             0.052        31400  198680   \n",
       "\n",
       "   Count_3-6_months_late  Count_6-12_months_late  \\\n",
       "0                    0.0                     0.0   \n",
       "1                    0.0                     0.0   \n",
       "2                    2.0                     3.0   \n",
       "3                    0.0                     0.0   \n",
       "4                    0.0                     0.0   \n",
       "\n",
       "   Count_more_than_12_months_late  application_underwriting_score  \\\n",
       "0                             0.0                           99.02   \n",
       "1                             0.0                           99.89   \n",
       "2                             1.0                           98.69   \n",
       "3                             0.0                           99.57   \n",
       "4                             0.0                           99.87   \n",
       "\n",
       "   no_of_premiums_paid  target  source_A  source_B  source_C  source_D  \\\n",
       "0                   13       1         0         0         1         0   \n",
       "1                   21       1         1         0         0         0   \n",
       "2                    7       0         0         0         1         0   \n",
       "3                    9       1         1         0         0         0   \n",
       "4                   12       1         0         1         0         0   \n",
       "\n",
       "   source_E  residence_Rural  residence_Urban  \n",
       "0         0                0                1  \n",
       "1         0                0                1  \n",
       "2         0                1                0  \n",
       "3         0                0                1  \n",
       "4         0                0                1  "
      ]
     },
     "execution_count": 23,
     "metadata": {},
     "output_type": "execute_result"
    }
   ],
   "source": [
    "df.head()"
   ]
  },
  {
   "cell_type": "code",
   "execution_count": 92,
   "metadata": {},
   "outputs": [
    {
     "data": {
      "text/html": [
       "<div>\n",
       "<style scoped>\n",
       "    .dataframe tbody tr th:only-of-type {\n",
       "        vertical-align: middle;\n",
       "    }\n",
       "\n",
       "    .dataframe tbody tr th {\n",
       "        vertical-align: top;\n",
       "    }\n",
       "\n",
       "    .dataframe thead th {\n",
       "        text-align: right;\n",
       "    }\n",
       "</style>\n",
       "<table border=\"1\" class=\"dataframe\">\n",
       "  <thead>\n",
       "    <tr style=\"text-align: right;\">\n",
       "      <th></th>\n",
       "      <th>id</th>\n",
       "      <th>perc_premium_paid_by_cash_credit</th>\n",
       "      <th>age_in_days</th>\n",
       "      <th>Income</th>\n",
       "      <th>Count_3-6_months_late</th>\n",
       "      <th>Count_6-12_months_late</th>\n",
       "      <th>Count_more_than_12_months_late</th>\n",
       "      <th>application_underwriting_score</th>\n",
       "      <th>no_of_premiums_paid</th>\n",
       "      <th>source_A</th>\n",
       "      <th>source_B</th>\n",
       "      <th>source_C</th>\n",
       "      <th>source_D</th>\n",
       "      <th>source_E</th>\n",
       "      <th>residence_Rural</th>\n",
       "      <th>residence_Urban</th>\n",
       "    </tr>\n",
       "  </thead>\n",
       "  <tbody>\n",
       "    <tr>\n",
       "      <th>0</th>\n",
       "      <td>649</td>\n",
       "      <td>0.001</td>\n",
       "      <td>27384</td>\n",
       "      <td>51150</td>\n",
       "      <td>0.0</td>\n",
       "      <td>0.0</td>\n",
       "      <td>0.0</td>\n",
       "      <td>99.89</td>\n",
       "      <td>7</td>\n",
       "      <td>1</td>\n",
       "      <td>0</td>\n",
       "      <td>0</td>\n",
       "      <td>0</td>\n",
       "      <td>0</td>\n",
       "      <td>1</td>\n",
       "      <td>0</td>\n",
       "    </tr>\n",
       "    <tr>\n",
       "      <th>1</th>\n",
       "      <td>81136</td>\n",
       "      <td>0.124</td>\n",
       "      <td>23735</td>\n",
       "      <td>285140</td>\n",
       "      <td>0.0</td>\n",
       "      <td>0.0</td>\n",
       "      <td>0.0</td>\n",
       "      <td>98.93</td>\n",
       "      <td>19</td>\n",
       "      <td>1</td>\n",
       "      <td>0</td>\n",
       "      <td>0</td>\n",
       "      <td>0</td>\n",
       "      <td>0</td>\n",
       "      <td>0</td>\n",
       "      <td>1</td>\n",
       "    </tr>\n",
       "    <tr>\n",
       "      <th>2</th>\n",
       "      <td>70762</td>\n",
       "      <td>1.000</td>\n",
       "      <td>17170</td>\n",
       "      <td>186030</td>\n",
       "      <td>0.0</td>\n",
       "      <td>0.0</td>\n",
       "      <td>0.0</td>\n",
       "      <td>99.21</td>\n",
       "      <td>2</td>\n",
       "      <td>0</td>\n",
       "      <td>1</td>\n",
       "      <td>0</td>\n",
       "      <td>0</td>\n",
       "      <td>0</td>\n",
       "      <td>0</td>\n",
       "      <td>1</td>\n",
       "    </tr>\n",
       "    <tr>\n",
       "      <th>3</th>\n",
       "      <td>53935</td>\n",
       "      <td>0.198</td>\n",
       "      <td>16068</td>\n",
       "      <td>123540</td>\n",
       "      <td>0.0</td>\n",
       "      <td>0.0</td>\n",
       "      <td>0.0</td>\n",
       "      <td>99.00</td>\n",
       "      <td>11</td>\n",
       "      <td>0</td>\n",
       "      <td>1</td>\n",
       "      <td>0</td>\n",
       "      <td>0</td>\n",
       "      <td>0</td>\n",
       "      <td>1</td>\n",
       "      <td>0</td>\n",
       "    </tr>\n",
       "    <tr>\n",
       "      <th>4</th>\n",
       "      <td>15476</td>\n",
       "      <td>0.041</td>\n",
       "      <td>10591</td>\n",
       "      <td>200020</td>\n",
       "      <td>1.0</td>\n",
       "      <td>0.0</td>\n",
       "      <td>0.0</td>\n",
       "      <td>99.17</td>\n",
       "      <td>14</td>\n",
       "      <td>1</td>\n",
       "      <td>0</td>\n",
       "      <td>0</td>\n",
       "      <td>0</td>\n",
       "      <td>0</td>\n",
       "      <td>1</td>\n",
       "      <td>0</td>\n",
       "    </tr>\n",
       "  </tbody>\n",
       "</table>\n",
       "</div>"
      ],
      "text/plain": [
       "      id  perc_premium_paid_by_cash_credit  age_in_days  Income  \\\n",
       "0    649                             0.001        27384   51150   \n",
       "1  81136                             0.124        23735  285140   \n",
       "2  70762                             1.000        17170  186030   \n",
       "3  53935                             0.198        16068  123540   \n",
       "4  15476                             0.041        10591  200020   \n",
       "\n",
       "   Count_3-6_months_late  Count_6-12_months_late  \\\n",
       "0                    0.0                     0.0   \n",
       "1                    0.0                     0.0   \n",
       "2                    0.0                     0.0   \n",
       "3                    0.0                     0.0   \n",
       "4                    1.0                     0.0   \n",
       "\n",
       "   Count_more_than_12_months_late  application_underwriting_score  \\\n",
       "0                             0.0                           99.89   \n",
       "1                             0.0                           98.93   \n",
       "2                             0.0                           99.21   \n",
       "3                             0.0                           99.00   \n",
       "4                             0.0                           99.17   \n",
       "\n",
       "   no_of_premiums_paid  source_A  source_B  source_C  source_D  source_E  \\\n",
       "0                    7         1         0         0         0         0   \n",
       "1                   19         1         0         0         0         0   \n",
       "2                    2         0         1         0         0         0   \n",
       "3                   11         0         1         0         0         0   \n",
       "4                   14         1         0         0         0         0   \n",
       "\n",
       "   residence_Rural  residence_Urban  \n",
       "0                1                0  \n",
       "1                0                1  \n",
       "2                0                1  \n",
       "3                1                0  \n",
       "4                1                0  "
      ]
     },
     "execution_count": 92,
     "metadata": {},
     "output_type": "execute_result"
    }
   ],
   "source": [
    "test.head()"
   ]
  },
  {
   "cell_type": "code",
   "execution_count": null,
   "metadata": {},
   "outputs": [],
   "source": []
  },
  {
   "cell_type": "code",
   "execution_count": null,
   "metadata": {},
   "outputs": [],
   "source": []
  },
  {
   "cell_type": "code",
   "execution_count": null,
   "metadata": {},
   "outputs": [],
   "source": []
  },
  {
   "cell_type": "code",
   "execution_count": null,
   "metadata": {},
   "outputs": [],
   "source": []
  },
  {
   "cell_type": "code",
   "execution_count": null,
   "metadata": {},
   "outputs": [],
   "source": []
  },
  {
   "cell_type": "code",
   "execution_count": null,
   "metadata": {},
   "outputs": [],
   "source": []
  },
  {
   "cell_type": "code",
   "execution_count": null,
   "metadata": {},
   "outputs": [],
   "source": []
  },
  {
   "cell_type": "code",
   "execution_count": 93,
   "metadata": {},
   "outputs": [],
   "source": [
    "test=test.drop([\"id\"],1)"
   ]
  },
  {
   "cell_type": "code",
   "execution_count": 24,
   "metadata": {},
   "outputs": [],
   "source": [
    "df=df.drop([\"id\"],1)"
   ]
  },
  {
   "cell_type": "code",
   "execution_count": null,
   "metadata": {},
   "outputs": [],
   "source": []
  },
  {
   "cell_type": "code",
   "execution_count": 32,
   "metadata": {},
   "outputs": [],
   "source": [
    "num_cols=['perc_premium_paid_by_cash_credit','age_in_days','Income','Count_3-6_months_late','Count_6-12_months_late','Count_more_than_12_months_late','application_underwriting_score','no_of_premiums_paid']"
   ]
  },
  {
   "cell_type": "code",
   "execution_count": null,
   "metadata": {},
   "outputs": [],
   "source": []
  },
  {
   "cell_type": "code",
   "execution_count": null,
   "metadata": {},
   "outputs": [],
   "source": []
  },
  {
   "cell_type": "code",
   "execution_count": 33,
   "metadata": {},
   "outputs": [],
   "source": [
    "std = StandardScaler()\n",
    "scaled = std.fit_transform(df[num_cols])\n",
    "scaled = pd.DataFrame(scaled,columns=num_cols)"
   ]
  },
  {
   "cell_type": "code",
   "execution_count": 94,
   "metadata": {},
   "outputs": [],
   "source": [
    "std = StandardScaler()\n",
    "scaledtt = std.fit_transform(test[num_cols])\n",
    "scaledtt = pd.DataFrame(scaledtt,columns=num_cols)"
   ]
  },
  {
   "cell_type": "code",
   "execution_count": null,
   "metadata": {},
   "outputs": [],
   "source": []
  },
  {
   "cell_type": "code",
   "execution_count": null,
   "metadata": {},
   "outputs": [],
   "source": []
  },
  {
   "cell_type": "code",
   "execution_count": null,
   "metadata": {},
   "outputs": [],
   "source": []
  },
  {
   "cell_type": "code",
   "execution_count": 34,
   "metadata": {},
   "outputs": [],
   "source": [
    "df_c = df.copy()\n",
    "df = df.drop(columns = num_cols,axis = 1)\n",
    "df = df.merge(scaled,left_index=True,right_index=True,how = \"left\")"
   ]
  },
  {
   "cell_type": "code",
   "execution_count": 95,
   "metadata": {},
   "outputs": [],
   "source": [
    "test_c = test.copy()\n",
    "test = test.drop(columns = num_cols,axis = 1)\n",
    "test = test.merge(scaledtt,left_index=True,right_index=True,how = \"left\")"
   ]
  },
  {
   "cell_type": "code",
   "execution_count": null,
   "metadata": {},
   "outputs": [],
   "source": []
  },
  {
   "cell_type": "code",
   "execution_count": null,
   "metadata": {},
   "outputs": [],
   "source": []
  },
  {
   "cell_type": "code",
   "execution_count": 36,
   "metadata": {},
   "outputs": [],
   "source": [
    "y_all = df.target\n",
    "df = df.drop(['target'],axis = 1)"
   ]
  },
  {
   "cell_type": "markdown",
   "metadata": {},
   "source": [
    "### Baseline Columns"
   ]
  },
  {
   "cell_type": "code",
   "execution_count": 37,
   "metadata": {},
   "outputs": [],
   "source": [
    "df_baseline = df[num_cols]"
   ]
  },
  {
   "cell_type": "code",
   "execution_count": 96,
   "metadata": {},
   "outputs": [],
   "source": [
    "test_dase=test[num_cols]"
   ]
  },
  {
   "cell_type": "markdown",
   "metadata": {},
   "source": [
    "### Train Test Split to create a validation set"
   ]
  },
  {
   "cell_type": "code",
   "execution_count": 47,
   "metadata": {},
   "outputs": [],
   "source": [
    "# Splitting the data into Train and Validation set\n",
    "xtrain, xtest, ytrain, ytest = train_test_split(df_baseline,y_all,test_size=0.30, random_state=11)"
   ]
  },
  {
   "cell_type": "code",
   "execution_count": 48,
   "metadata": {},
   "outputs": [
    {
     "data": {
      "text/plain": [
       "1    74855\n",
       "0     4998\n",
       "Name: target, dtype: int64"
      ]
     },
     "execution_count": 48,
     "metadata": {},
     "output_type": "execute_result"
    }
   ],
   "source": [
    "y_all.value_counts()"
   ]
  },
  {
   "cell_type": "code",
   "execution_count": 49,
   "metadata": {},
   "outputs": [
    {
     "data": {
      "text/plain": [
       "1    22436\n",
       "0     1520\n",
       "Name: target, dtype: int64"
      ]
     },
     "execution_count": 49,
     "metadata": {},
     "output_type": "execute_result"
    }
   ],
   "source": [
    "ytest.value_counts()"
   ]
  },
  {
   "cell_type": "code",
   "execution_count": 110,
   "metadata": {},
   "outputs": [],
   "source": [
    "model = LogisticRegression()\n",
    "model.fit(xtrain,ytrain)\n",
    "pred = model.predict_proba(xtest)[:,1]"
   ]
  },
  {
   "cell_type": "code",
   "execution_count": 111,
   "metadata": {},
   "outputs": [],
   "source": [
    "from sklearn import metrics"
   ]
  },
  {
   "cell_type": "code",
   "execution_count": 112,
   "metadata": {},
   "outputs": [
    {
     "data": {
      "text/plain": [
       "0.8366219175479259"
      ]
     },
     "execution_count": 112,
     "metadata": {},
     "output_type": "execute_result"
    }
   ],
   "source": [
    "metrics.roc_auc_score(ytest, pred)"
   ]
  },
  {
   "cell_type": "markdown",
   "metadata": {},
   "source": [
    "### AUC ROC Curve & Confusion Matrix \n",
    "\n",
    "Now, let us quickly look at the AUC-ROC curve for our logistic regression model and also the confusion matrix to see where the logistic regression model is failing here."
   ]
  },
  {
   "cell_type": "code",
   "execution_count": 66,
   "metadata": {},
   "outputs": [
    {
     "data": {
      "text/plain": [
       "<Figure size 720x720 with 0 Axes>"
      ]
     },
     "metadata": {},
     "output_type": "display_data"
    }
   ],
   "source": [
    "f = plt.figure(figsize=(10,10))\n",
    "gs = f.add_gridspec(2,1)\n",
    "sns.set(font_scale=1.5)"
   ]
  },
  {
   "cell_type": "code",
   "execution_count": 103,
   "metadata": {},
   "outputs": [
    {
     "data": {
      "image/png": "[encoded data removed]",
      "text/plain": [
       "<Figure size 864x576 with 1 Axes>"
      ]
     },
     "metadata": {},
     "output_type": "display_data"
    }
   ],
   "source": [
    "from sklearn.metrics import roc_curve\n",
    "fpr, tpr, _ = roc_curve(ytest,pred) \n",
    "auc = roc_auc_score(ytest, pred) \n",
    "plt.figure(figsize=(12,8)) \n",
    "plt.plot(fpr,tpr,label=\"Validation AUC-ROC=\"+str(auc)) \n",
    "x = np.linspace(0, 1, 1000)\n",
    "plt.plot(x, x, linestyle='-')\n",
    "plt.xlabel('False Positive Rate') \n",
    "plt.ylabel('True Positive Rate') \n",
    "plt.legend(loc=4) \n",
    "plt.show()"
   ]
  },
  {
   "cell_type": "code",
   "execution_count": 104,
   "metadata": {},
   "outputs": [],
   "source": [
    "# Confusion Matrix\n",
    "pred_val = model.predict(xtest)"
   ]
  },
  {
   "cell_type": "code",
   "execution_count": 105,
   "metadata": {},
   "outputs": [
    {
     "data": {
      "image/png": "[encoded data removed]",
      "text/plain": [
       "<Figure size 504x432 with 2 Axes>"
      ]
     },
     "metadata": {},
     "output_type": "display_data"
    }
   ],
   "source": [
    "label_preds = pred_val\n",
    "\n",
    "cm = confusion_matrix(ytest,label_preds)\n",
    "\n",
    "\n",
    "def plot_confusion_matrix(cm, normalized=True, cmap='bone'):\n",
    "    plt.figure(figsize=[7, 6])\n",
    "    norm_cm = cm\n",
    "    if normalized:\n",
    "        norm_cm = cm.astype('float') / cm.sum(axis=1)[:, np.newaxis]\n",
    "        sns.heatmap(norm_cm, annot=cm, fmt='g', xticklabels=['Predicted: No','Predicted: Yes'], yticklabels=['Actual: No','Actual: Yes'], cmap=cmap)\n",
    "\n",
    "plot_confusion_matrix(cm, ['No', 'Yes'])"
   ]
  },
  {
   "cell_type": "code",
   "execution_count": 106,
   "metadata": {},
   "outputs": [
    {
     "data": {
      "text/plain": [
       "0.9934034587270458"
      ]
     },
     "execution_count": 106,
     "metadata": {},
     "output_type": "execute_result"
    }
   ],
   "source": [
    "# Recall Score\n",
    "recall_score(ytest,pred_val)"
   ]
  },
  {
   "cell_type": "code",
   "execution_count": 107,
   "metadata": {},
   "outputs": [],
   "source": [
    "def cv_score(ml_model, rstate = 12, thres = 0.5, cols = df.columns):\n",
    "    i = 1\n",
    "    cv_scores = []\n",
    "    df1 = df.copy()\n",
    "    df1 = df[cols]\n",
    "    \n",
    "    # 5 Fold cross validation stratified on the basis of target\n",
    "    kf = StratifiedKFold(n_splits=5,random_state=rstate,shuffle=True)\n",
    "    for df_index,test_index in kf.split(df1,y_all):\n",
    "        print('\\n{} of kfold {}'.format(i,kf.n_splits))\n",
    "        xtr,xvl = df1.loc[df_index],df1.loc[test_index]\n",
    "        ytr,yvl = y_all.loc[df_index],y_all.loc[test_index]\n",
    "            \n",
    "        # Define model for fitting on the training set for each fold\n",
    "        model = ml_model\n",
    "        model.fit(xtr, ytr)\n",
    "        pred_probs = model.predict_proba(xvl)\n",
    "        pp = []\n",
    "         \n",
    "        # Use threshold to define the classes based on probability values\n",
    "        for j in pred_probs[:,1]:\n",
    "            if j>thres:\n",
    "                pp.append(1)\n",
    "            else:\n",
    "                pp.append(0)\n",
    "         \n",
    "        # Calculate scores for each fold and print\n",
    "        pred_val = pp\n",
    "        roc_score = roc_auc_score(yvl,pred_probs[:,1])\n",
    "        recall = recall_score(yvl,pred_val)\n",
    "        precision = precision_score(yvl,pred_val)\n",
    "        sufix = \"\"\n",
    "        msg = \"\"\n",
    "        msg += \"ROC AUC Score: {}, Recall Score: {:.4f}, Precision Score: {:.4f} \".format(roc_score, recall,precision)\n",
    "        print(\"{}\".format(msg))\n",
    "         \n",
    "         # Save scores\n",
    "        cv_scores.append(roc_score)\n",
    "        i+=1\n",
    "    return cv_scores"
   ]
  },
  {
   "cell_type": "code",
   "execution_count": 108,
   "metadata": {},
   "outputs": [
    {
     "name": "stdout",
     "output_type": "stream",
     "text": [
      "\n",
      "1 of kfold 5\n",
      "ROC AUC Score: 0.8349772226304187, Recall Score: 0.9945, Precision Score: 0.9440 \n",
      "\n",
      "2 of kfold 5\n",
      "ROC AUC Score: 0.8239853049228509, Recall Score: 0.9930, Precision Score: 0.9454 \n",
      "\n",
      "3 of kfold 5\n",
      "ROC AUC Score: 0.839255293567564, Recall Score: 0.9930, Precision Score: 0.9451 \n",
      "\n",
      "4 of kfold 5\n",
      "ROC AUC Score: 0.8235152526115054, Recall Score: 0.9937, Precision Score: 0.9455 \n",
      "\n",
      "5 of kfold 5\n",
      "ROC AUC Score: 0.8274188288883366, Recall Score: 0.9939, Precision Score: 0.9433 \n"
     ]
    }
   ],
   "source": [
    "baseline_scores = cv_score(LogisticRegression(), cols = num_cols)"
   ]
  },
  {
   "cell_type": "markdown",
   "metadata": {},
   "source": [
    "Now let us try using all columns available to check if we get significant improvement."
   ]
  },
  {
   "cell_type": "code",
   "execution_count": 109,
   "metadata": {},
   "outputs": [
    {
     "name": "stdout",
     "output_type": "stream",
     "text": [
      "\n",
      "1 of kfold 5\n",
      "ROC AUC Score: 0.8344698416939416, Recall Score: 0.9946, Precision Score: 0.9441 \n",
      "\n",
      "2 of kfold 5\n",
      "ROC AUC Score: 0.824231046690268, Recall Score: 0.9931, Precision Score: 0.9453 \n",
      "\n",
      "3 of kfold 5\n",
      "ROC AUC Score: 0.8391824861398705, Recall Score: 0.9929, Precision Score: 0.9451 \n",
      "\n",
      "4 of kfold 5\n",
      "ROC AUC Score: 0.822883534125268, Recall Score: 0.9935, Precision Score: 0.9455 \n",
      "\n",
      "5 of kfold 5\n",
      "ROC AUC Score: 0.8270132399449079, Recall Score: 0.9941, Precision Score: 0.9435 \n"
     ]
    }
   ],
   "source": [
    "all_feat_scores = cv_score(LogisticRegression())"
   ]
  },
  {
   "cell_type": "markdown",
   "metadata": {},
   "source": [
    "There is some improvement in both ROC AUC Scores and Precision/Recall Scores."
   ]
  },
  {
   "cell_type": "code",
   "execution_count": null,
   "metadata": {},
   "outputs": [],
   "source": []
  },
  {
   "cell_type": "code",
   "execution_count": 74,
   "metadata": {},
   "outputs": [],
   "source": [
    "from sklearn.ensemble import RandomForestClassifier"
   ]
  },
  {
   "cell_type": "code",
   "execution_count": 78,
   "metadata": {},
   "outputs": [
    {
     "name": "stdout",
     "output_type": "stream",
     "text": [
      "\n",
      "1 of kfold 5\n",
      "ROC AUC Score: 0.8474932202257698, Recall Score: 0.9975, Precision Score: 0.9410 \n",
      "\n",
      "2 of kfold 5\n",
      "ROC AUC Score: 0.8313725870015363, Recall Score: 0.9971, Precision Score: 0.9412 \n",
      "\n",
      "3 of kfold 5\n",
      "ROC AUC Score: 0.8501987175205398, Recall Score: 0.9974, Precision Score: 0.9414 \n",
      "\n",
      "4 of kfold 5\n",
      "ROC AUC Score: 0.8344374699995567, Recall Score: 0.9979, Precision Score: 0.9410 \n",
      "\n",
      "5 of kfold 5\n",
      "ROC AUC Score: 0.8392152087963991, Recall Score: 0.9975, Precision Score: 0.9407 \n"
     ]
    }
   ],
   "source": [
    "rf_all_features = cv_score(RandomForestClassifier(n_estimators=500, max_depth=8))"
   ]
  },
  {
   "cell_type": "code",
   "execution_count": 80,
   "metadata": {},
   "outputs": [],
   "source": [
    "results_df = pd.DataFrame({'baseline':baseline_scores, 'all_feats': all_feat_scores, 'random_forest': rf_all_features})"
   ]
  },
  {
   "cell_type": "code",
   "execution_count": 81,
   "metadata": {},
   "outputs": [
    {
     "data": {
      "text/plain": [
       "<matplotlib.axes._subplots.AxesSubplot at 0xc2e9bf0>"
      ]
     },
     "execution_count": 81,
     "metadata": {},
     "output_type": "execute_result"
    },
    {
     "data": {
      "image/png": "[encoded data removed]",
      "text/plain": [
       "<Figure size 432x288 with 1 Axes>"
      ]
     },
     "metadata": {},
     "output_type": "display_data"
    }
   ],
   "source": [
    "results_df.plot(y=[\"baseline\", \"all_feats\", \"random_forest\"], kind=\"bar\")"
   ]
  },
  {
   "cell_type": "code",
   "execution_count": 97,
   "metadata": {},
   "outputs": [],
   "source": [
    "rn=RandomForestClassifier(n_estimators=500, max_depth=8)"
   ]
  },
  {
   "cell_type": "code",
   "execution_count": 98,
   "metadata": {},
   "outputs": [
    {
     "data": {
      "text/plain": [
       "RandomForestClassifier(max_depth=8, n_estimators=500)"
      ]
     },
     "execution_count": 98,
     "metadata": {},
     "output_type": "execute_result"
    }
   ],
   "source": [
    "rn.fit(xtrain, ytrain)"
   ]
  },
  {
   "cell_type": "code",
   "execution_count": 159,
   "metadata": {},
   "outputs": [],
   "source": [
    "pred=rn.predict_proba(xtest)[:,1]"
   ]
  },
  {
   "cell_type": "code",
   "execution_count": 160,
   "metadata": {},
   "outputs": [
    {
     "data": {
      "text/plain": [
       "0.8495462238789164"
      ]
     },
     "execution_count": 160,
     "metadata": {},
     "output_type": "execute_result"
    }
   ],
   "source": [
    "metrics.roc_auc_score(ytest, pred)"
   ]
  },
  {
   "cell_type": "code",
   "execution_count": 113,
   "metadata": {},
   "outputs": [],
   "source": [
    "from sklearn.tree import DecisionTreeClassifier"
   ]
  },
  {
   "cell_type": "code",
   "execution_count": 114,
   "metadata": {},
   "outputs": [],
   "source": [
    "dt=DecisionTreeClassifier()"
   ]
  },
  {
   "cell_type": "code",
   "execution_count": 115,
   "metadata": {},
   "outputs": [
    {
     "data": {
      "text/plain": [
       "DecisionTreeClassifier()"
      ]
     },
     "execution_count": 115,
     "metadata": {},
     "output_type": "execute_result"
    }
   ],
   "source": [
    "dt.fit(xtrain,ytrain)"
   ]
  },
  {
   "cell_type": "code",
   "execution_count": 157,
   "metadata": {},
   "outputs": [],
   "source": [
    "dty=dt.predict_proba(xtest)[:,1]"
   ]
  },
  {
   "cell_type": "code",
   "execution_count": 158,
   "metadata": {},
   "outputs": [
    {
     "data": {
      "text/plain": [
       "0.5936993882012931"
      ]
     },
     "execution_count": 158,
     "metadata": {},
     "output_type": "execute_result"
    }
   ],
   "source": [
    "metrics.roc_auc_score(ytest, dty)"
   ]
  },
  {
   "cell_type": "code",
   "execution_count": 123,
   "metadata": {},
   "outputs": [],
   "source": [
    "my=model.predict_proba(xtest)[:,1]"
   ]
  },
  {
   "cell_type": "code",
   "execution_count": 124,
   "metadata": {},
   "outputs": [
    {
     "data": {
      "text/plain": [
       "0.8366219175479259"
      ]
     },
     "execution_count": 124,
     "metadata": {},
     "output_type": "execute_result"
    }
   ],
   "source": [
    "metrics.roc_auc_score(ytest, my)"
   ]
  },
  {
   "cell_type": "code",
   "execution_count": 161,
   "metadata": {},
   "outputs": [],
   "source": [
    "result=rn.predict_proba(test[num_cols])[:,1]"
   ]
  },
  {
   "cell_type": "code",
   "execution_count": null,
   "metadata": {},
   "outputs": [],
   "source": []
  },
  {
   "cell_type": "code",
   "execution_count": 143,
   "metadata": {},
   "outputs": [],
   "source": [
    "testcopy=pd.read_csv('test_LxCaReE_DvdCKVT2_7rMflxW.csv')"
   ]
  },
  {
   "cell_type": "code",
   "execution_count": 145,
   "metadata": {},
   "outputs": [],
   "source": [
    "idd=testcopy[\"id\"]"
   ]
  },
  {
   "cell_type": "code",
   "execution_count": 150,
   "metadata": {
    "collapsed": true
   },
   "outputs": [
    {
     "data": {
      "text/plain": [
       "0           649\n",
       "1         81136\n",
       "2         70762\n",
       "3         53935\n",
       "4         15476\n",
       "5         64797\n",
       "6         67412\n",
       "7         44241\n",
       "8          5069\n",
       "9         16615\n",
       "10        84281\n",
       "11        82623\n",
       "12        86475\n",
       "13        68263\n",
       "14       113135\n",
       "15        45532\n",
       "16       102161\n",
       "17        84789\n",
       "18        62398\n",
       "19        70148\n",
       "20       102487\n",
       "21       100513\n",
       "22        92702\n",
       "23        25051\n",
       "24        92920\n",
       "25        25520\n",
       "26        81869\n",
       "27        75402\n",
       "28        34053\n",
       "29        21191\n",
       "          ...  \n",
       "34194     79950\n",
       "34195     30272\n",
       "34196     85914\n",
       "34197     10922\n",
       "34198     93046\n",
       "34199     52826\n",
       "34200     35994\n",
       "34201      1512\n",
       "34202     52077\n",
       "34203     95749\n",
       "34204     49946\n",
       "34205     66811\n",
       "34206     53438\n",
       "34207     24435\n",
       "34208     17848\n",
       "34209     53626\n",
       "34210     87268\n",
       "34211     58450\n",
       "34212     48188\n",
       "34213     44239\n",
       "34214     24582\n",
       "34215     79939\n",
       "34216     63759\n",
       "34217     63725\n",
       "34218     37116\n",
       "34219     81988\n",
       "34220     30326\n",
       "34221     65749\n",
       "34222     65686\n",
       "34223     93826\n",
       "Name: id, Length: 34224, dtype: int64"
      ]
     },
     "execution_count": 150,
     "metadata": {},
     "output_type": "execute_result"
    }
   ],
   "source": [
    "idd"
   ]
  },
  {
   "cell_type": "code",
   "execution_count": 128,
   "metadata": {},
   "outputs": [],
   "source": [
    "colls=[\"id\", \"target\"]"
   ]
  },
  {
   "cell_type": "code",
   "execution_count": 162,
   "metadata": {},
   "outputs": [
    {
     "data": {
      "text/plain": [
       "array([0.98568369, 0.9820465 , 0.80390186, ..., 0.96075475, 0.75917364,\n",
       "       0.96091041])"
      ]
     },
     "execution_count": 162,
     "metadata": {},
     "output_type": "execute_result"
    }
   ],
   "source": [
    "result"
   ]
  },
  {
   "cell_type": "code",
   "execution_count": 163,
   "metadata": {},
   "outputs": [],
   "source": [
    "submission=pd.DataFrame()"
   ]
  },
  {
   "cell_type": "code",
   "execution_count": 164,
   "metadata": {
    "scrolled": false
   },
   "outputs": [
    {
     "data": {
      "text/html": [
       "<div>\n",
       "<style scoped>\n",
       "    .dataframe tbody tr th:only-of-type {\n",
       "        vertical-align: middle;\n",
       "    }\n",
       "\n",
       "    .dataframe tbody tr th {\n",
       "        vertical-align: top;\n",
       "    }\n",
       "\n",
       "    .dataframe thead th {\n",
       "        text-align: right;\n",
       "    }\n",
       "</style>\n",
       "<table border=\"1\" class=\"dataframe\">\n",
       "  <thead>\n",
       "    <tr style=\"text-align: right;\">\n",
       "      <th></th>\n",
       "    </tr>\n",
       "  </thead>\n",
       "  <tbody>\n",
       "  </tbody>\n",
       "</table>\n",
       "</div>"
      ],
      "text/plain": [
       "Empty DataFrame\n",
       "Columns: []\n",
       "Index: []"
      ]
     },
     "execution_count": 164,
     "metadata": {},
     "output_type": "execute_result"
    }
   ],
   "source": [
    "submission"
   ]
  },
  {
   "cell_type": "code",
   "execution_count": 165,
   "metadata": {},
   "outputs": [],
   "source": [
    "submission[\"id\"]=idd"
   ]
  },
  {
   "cell_type": "code",
   "execution_count": 166,
   "metadata": {},
   "outputs": [],
   "source": [
    "submission[\"target\"]=result"
   ]
  },
  {
   "cell_type": "code",
   "execution_count": 167,
   "metadata": {
    "collapsed": true
   },
   "outputs": [
    {
     "data": {
      "text/html": [
       "<div>\n",
       "<style scoped>\n",
       "    .dataframe tbody tr th:only-of-type {\n",
       "        vertical-align: middle;\n",
       "    }\n",
       "\n",
       "    .dataframe tbody tr th {\n",
       "        vertical-align: top;\n",
       "    }\n",
       "\n",
       "    .dataframe thead th {\n",
       "        text-align: right;\n",
       "    }\n",
       "</style>\n",
       "<table border=\"1\" class=\"dataframe\">\n",
       "  <thead>\n",
       "    <tr style=\"text-align: right;\">\n",
       "      <th></th>\n",
       "      <th>id</th>\n",
       "      <th>target</th>\n",
       "    </tr>\n",
       "  </thead>\n",
       "  <tbody>\n",
       "    <tr>\n",
       "      <th>0</th>\n",
       "      <td>649</td>\n",
       "      <td>0.985684</td>\n",
       "    </tr>\n",
       "    <tr>\n",
       "      <th>1</th>\n",
       "      <td>81136</td>\n",
       "      <td>0.982046</td>\n",
       "    </tr>\n",
       "    <tr>\n",
       "      <th>2</th>\n",
       "      <td>70762</td>\n",
       "      <td>0.803902</td>\n",
       "    </tr>\n",
       "    <tr>\n",
       "      <th>3</th>\n",
       "      <td>53935</td>\n",
       "      <td>0.974741</td>\n",
       "    </tr>\n",
       "    <tr>\n",
       "      <th>4</th>\n",
       "      <td>15476</td>\n",
       "      <td>0.948749</td>\n",
       "    </tr>\n",
       "    <tr>\n",
       "      <th>5</th>\n",
       "      <td>64797</td>\n",
       "      <td>0.981154</td>\n",
       "    </tr>\n",
       "    <tr>\n",
       "      <th>6</th>\n",
       "      <td>67412</td>\n",
       "      <td>0.848107</td>\n",
       "    </tr>\n",
       "    <tr>\n",
       "      <th>7</th>\n",
       "      <td>44241</td>\n",
       "      <td>0.825861</td>\n",
       "    </tr>\n",
       "    <tr>\n",
       "      <th>8</th>\n",
       "      <td>5069</td>\n",
       "      <td>0.989670</td>\n",
       "    </tr>\n",
       "    <tr>\n",
       "      <th>9</th>\n",
       "      <td>16615</td>\n",
       "      <td>0.987730</td>\n",
       "    </tr>\n",
       "    <tr>\n",
       "      <th>10</th>\n",
       "      <td>84281</td>\n",
       "      <td>0.981717</td>\n",
       "    </tr>\n",
       "    <tr>\n",
       "      <th>11</th>\n",
       "      <td>82623</td>\n",
       "      <td>0.969574</td>\n",
       "    </tr>\n",
       "    <tr>\n",
       "      <th>12</th>\n",
       "      <td>86475</td>\n",
       "      <td>0.602721</td>\n",
       "    </tr>\n",
       "    <tr>\n",
       "      <th>13</th>\n",
       "      <td>68263</td>\n",
       "      <td>0.944530</td>\n",
       "    </tr>\n",
       "    <tr>\n",
       "      <th>14</th>\n",
       "      <td>113135</td>\n",
       "      <td>0.944818</td>\n",
       "    </tr>\n",
       "    <tr>\n",
       "      <th>15</th>\n",
       "      <td>45532</td>\n",
       "      <td>0.976158</td>\n",
       "    </tr>\n",
       "    <tr>\n",
       "      <th>16</th>\n",
       "      <td>102161</td>\n",
       "      <td>0.989716</td>\n",
       "    </tr>\n",
       "    <tr>\n",
       "      <th>17</th>\n",
       "      <td>84789</td>\n",
       "      <td>0.699094</td>\n",
       "    </tr>\n",
       "    <tr>\n",
       "      <th>18</th>\n",
       "      <td>62398</td>\n",
       "      <td>0.974448</td>\n",
       "    </tr>\n",
       "    <tr>\n",
       "      <th>19</th>\n",
       "      <td>70148</td>\n",
       "      <td>0.963085</td>\n",
       "    </tr>\n",
       "    <tr>\n",
       "      <th>20</th>\n",
       "      <td>102487</td>\n",
       "      <td>0.925568</td>\n",
       "    </tr>\n",
       "    <tr>\n",
       "      <th>21</th>\n",
       "      <td>100513</td>\n",
       "      <td>0.909862</td>\n",
       "    </tr>\n",
       "    <tr>\n",
       "      <th>22</th>\n",
       "      <td>92702</td>\n",
       "      <td>0.919037</td>\n",
       "    </tr>\n",
       "    <tr>\n",
       "      <th>23</th>\n",
       "      <td>25051</td>\n",
       "      <td>0.683555</td>\n",
       "    </tr>\n",
       "    <tr>\n",
       "      <th>24</th>\n",
       "      <td>92920</td>\n",
       "      <td>0.988202</td>\n",
       "    </tr>\n",
       "    <tr>\n",
       "      <th>25</th>\n",
       "      <td>25520</td>\n",
       "      <td>0.963981</td>\n",
       "    </tr>\n",
       "    <tr>\n",
       "      <th>26</th>\n",
       "      <td>81869</td>\n",
       "      <td>0.964121</td>\n",
       "    </tr>\n",
       "    <tr>\n",
       "      <th>27</th>\n",
       "      <td>75402</td>\n",
       "      <td>0.977862</td>\n",
       "    </tr>\n",
       "    <tr>\n",
       "      <th>28</th>\n",
       "      <td>34053</td>\n",
       "      <td>0.665887</td>\n",
       "    </tr>\n",
       "    <tr>\n",
       "      <th>29</th>\n",
       "      <td>21191</td>\n",
       "      <td>0.981194</td>\n",
       "    </tr>\n",
       "    <tr>\n",
       "      <th>...</th>\n",
       "      <td>...</td>\n",
       "      <td>...</td>\n",
       "    </tr>\n",
       "    <tr>\n",
       "      <th>34194</th>\n",
       "      <td>79950</td>\n",
       "      <td>0.985200</td>\n",
       "    </tr>\n",
       "    <tr>\n",
       "      <th>34195</th>\n",
       "      <td>30272</td>\n",
       "      <td>0.989116</td>\n",
       "    </tr>\n",
       "    <tr>\n",
       "      <th>34196</th>\n",
       "      <td>85914</td>\n",
       "      <td>0.991136</td>\n",
       "    </tr>\n",
       "    <tr>\n",
       "      <th>34197</th>\n",
       "      <td>10922</td>\n",
       "      <td>0.982905</td>\n",
       "    </tr>\n",
       "    <tr>\n",
       "      <th>34198</th>\n",
       "      <td>93046</td>\n",
       "      <td>0.981705</td>\n",
       "    </tr>\n",
       "    <tr>\n",
       "      <th>34199</th>\n",
       "      <td>52826</td>\n",
       "      <td>0.945799</td>\n",
       "    </tr>\n",
       "    <tr>\n",
       "      <th>34200</th>\n",
       "      <td>35994</td>\n",
       "      <td>0.982385</td>\n",
       "    </tr>\n",
       "    <tr>\n",
       "      <th>34201</th>\n",
       "      <td>1512</td>\n",
       "      <td>0.981677</td>\n",
       "    </tr>\n",
       "    <tr>\n",
       "      <th>34202</th>\n",
       "      <td>52077</td>\n",
       "      <td>0.971329</td>\n",
       "    </tr>\n",
       "    <tr>\n",
       "      <th>34203</th>\n",
       "      <td>95749</td>\n",
       "      <td>0.973186</td>\n",
       "    </tr>\n",
       "    <tr>\n",
       "      <th>34204</th>\n",
       "      <td>49946</td>\n",
       "      <td>0.980567</td>\n",
       "    </tr>\n",
       "    <tr>\n",
       "      <th>34205</th>\n",
       "      <td>66811</td>\n",
       "      <td>0.978967</td>\n",
       "    </tr>\n",
       "    <tr>\n",
       "      <th>34206</th>\n",
       "      <td>53438</td>\n",
       "      <td>0.983746</td>\n",
       "    </tr>\n",
       "    <tr>\n",
       "      <th>34207</th>\n",
       "      <td>24435</td>\n",
       "      <td>0.981074</td>\n",
       "    </tr>\n",
       "    <tr>\n",
       "      <th>34208</th>\n",
       "      <td>17848</td>\n",
       "      <td>0.972495</td>\n",
       "    </tr>\n",
       "    <tr>\n",
       "      <th>34209</th>\n",
       "      <td>53626</td>\n",
       "      <td>0.978712</td>\n",
       "    </tr>\n",
       "    <tr>\n",
       "      <th>34210</th>\n",
       "      <td>87268</td>\n",
       "      <td>0.988986</td>\n",
       "    </tr>\n",
       "    <tr>\n",
       "      <th>34211</th>\n",
       "      <td>58450</td>\n",
       "      <td>0.979634</td>\n",
       "    </tr>\n",
       "    <tr>\n",
       "      <th>34212</th>\n",
       "      <td>48188</td>\n",
       "      <td>0.983864</td>\n",
       "    </tr>\n",
       "    <tr>\n",
       "      <th>34213</th>\n",
       "      <td>44239</td>\n",
       "      <td>0.972335</td>\n",
       "    </tr>\n",
       "    <tr>\n",
       "      <th>34214</th>\n",
       "      <td>24582</td>\n",
       "      <td>0.931088</td>\n",
       "    </tr>\n",
       "    <tr>\n",
       "      <th>34215</th>\n",
       "      <td>79939</td>\n",
       "      <td>0.953829</td>\n",
       "    </tr>\n",
       "    <tr>\n",
       "      <th>34216</th>\n",
       "      <td>63759</td>\n",
       "      <td>0.962399</td>\n",
       "    </tr>\n",
       "    <tr>\n",
       "      <th>34217</th>\n",
       "      <td>63725</td>\n",
       "      <td>0.721587</td>\n",
       "    </tr>\n",
       "    <tr>\n",
       "      <th>34218</th>\n",
       "      <td>37116</td>\n",
       "      <td>0.962385</td>\n",
       "    </tr>\n",
       "    <tr>\n",
       "      <th>34219</th>\n",
       "      <td>81988</td>\n",
       "      <td>0.967590</td>\n",
       "    </tr>\n",
       "    <tr>\n",
       "      <th>34220</th>\n",
       "      <td>30326</td>\n",
       "      <td>0.980893</td>\n",
       "    </tr>\n",
       "    <tr>\n",
       "      <th>34221</th>\n",
       "      <td>65749</td>\n",
       "      <td>0.960755</td>\n",
       "    </tr>\n",
       "    <tr>\n",
       "      <th>34222</th>\n",
       "      <td>65686</td>\n",
       "      <td>0.759174</td>\n",
       "    </tr>\n",
       "    <tr>\n",
       "      <th>34223</th>\n",
       "      <td>93826</td>\n",
       "      <td>0.960910</td>\n",
       "    </tr>\n",
       "  </tbody>\n",
       "</table>\n",
       "<p>34224 rows × 2 columns</p>\n",
       "</div>"
      ],
      "text/plain": [
       "           id    target\n",
       "0         649  0.985684\n",
       "1       81136  0.982046\n",
       "2       70762  0.803902\n",
       "3       53935  0.974741\n",
       "4       15476  0.948749\n",
       "5       64797  0.981154\n",
       "6       67412  0.848107\n",
       "7       44241  0.825861\n",
       "8        5069  0.989670\n",
       "9       16615  0.987730\n",
       "10      84281  0.981717\n",
       "11      82623  0.969574\n",
       "12      86475  0.602721\n",
       "13      68263  0.944530\n",
       "14     113135  0.944818\n",
       "15      45532  0.976158\n",
       "16     102161  0.989716\n",
       "17      84789  0.699094\n",
       "18      62398  0.974448\n",
       "19      70148  0.963085\n",
       "20     102487  0.925568\n",
       "21     100513  0.909862\n",
       "22      92702  0.919037\n",
       "23      25051  0.683555\n",
       "24      92920  0.988202\n",
       "25      25520  0.963981\n",
       "26      81869  0.964121\n",
       "27      75402  0.977862\n",
       "28      34053  0.665887\n",
       "29      21191  0.981194\n",
       "...       ...       ...\n",
       "34194   79950  0.985200\n",
       "34195   30272  0.989116\n",
       "34196   85914  0.991136\n",
       "34197   10922  0.982905\n",
       "34198   93046  0.981705\n",
       "34199   52826  0.945799\n",
       "34200   35994  0.982385\n",
       "34201    1512  0.981677\n",
       "34202   52077  0.971329\n",
       "34203   95749  0.973186\n",
       "34204   49946  0.980567\n",
       "34205   66811  0.978967\n",
       "34206   53438  0.983746\n",
       "34207   24435  0.981074\n",
       "34208   17848  0.972495\n",
       "34209   53626  0.978712\n",
       "34210   87268  0.988986\n",
       "34211   58450  0.979634\n",
       "34212   48188  0.983864\n",
       "34213   44239  0.972335\n",
       "34214   24582  0.931088\n",
       "34215   79939  0.953829\n",
       "34216   63759  0.962399\n",
       "34217   63725  0.721587\n",
       "34218   37116  0.962385\n",
       "34219   81988  0.967590\n",
       "34220   30326  0.980893\n",
       "34221   65749  0.960755\n",
       "34222   65686  0.759174\n",
       "34223   93826  0.960910\n",
       "\n",
       "[34224 rows x 2 columns]"
      ]
     },
     "execution_count": 167,
     "metadata": {},
     "output_type": "execute_result"
    }
   ],
   "source": [
    "submission"
   ]
  },
  {
   "cell_type": "code",
   "execution_count": 168,
   "metadata": {},
   "outputs": [],
   "source": [
    "submission.to_csv(\"submission.csv\", index=False)"
   ]
  },
  {
   "cell_type": "code",
   "execution_count": null,
   "metadata": {},
   "outputs": [],
   "source": []
  }
 ],
 "metadata": {
  "kernelspec": {
   "display_name": "Python 3",
   "language": "python",
   "name": "python3"
  },
  "language_info": {
   "codemirror_mode": {
    "name": "ipython",
    "version": 3
   },
   "file_extension": ".py",
   "mimetype": "text/x-python",
   "name": "python",
   "nbconvert_exporter": "python",
   "pygments_lexer": "ipython3",
   "version": "3.7.3"
  }
 },
 "nbformat": 4,
 "nbformat_minor": 2
}
