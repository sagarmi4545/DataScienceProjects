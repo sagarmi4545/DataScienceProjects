{
 "cells": [
  {
   "cell_type": "markdown",
   "metadata": {},
   "source": [
    "## Premium Lapse Prediction"
   ]
  },
  {
   "cell_type": "code",
   "execution_count": 143,
   "metadata": {},
   "outputs": [],
   "source": [
    "import numpy as np\n",
    "import pandas as pd\n",
    "import seaborn as sns\n",
    "import matplotlib.pyplot as plt\n",
    "%matplotlib inline\n",
    "from sklearn.preprocessing import LabelEncoder\n",
    "from sklearn.preprocessing import StandardScaler\n",
    "from sklearn.linear_model import LogisticRegression\n",
    "from sklearn.model_selection import KFold, StratifiedKFold, train_test_split\n",
    "from sklearn.metrics import roc_auc_score, accuracy_score, confusion_matrix, roc_curve, precision_score, recall_score, precision_recall_curve\n",
    "import warnings\n",
    "warnings.simplefilter(action='ignore', category=FutureWarning)\n",
    "warnings.simplefilter(action='ignore', category=UserWarning)"
   ]
  },
  {
   "cell_type": "markdown",
   "metadata": {},
   "source": [
    "### Loading Data"
   ]
  },
  {
   "cell_type": "code",
   "execution_count": 144,
   "metadata": {},
   "outputs": [],
   "source": [
    "df = pd.read_csv('train_qnU1GcL.csv')"
   ]
  },
  {
   "cell_type": "code",
   "execution_count": 145,
   "metadata": {},
   "outputs": [],
   "source": [
    "test=pd.read_csv('test_LxCaReE_DvdCKVT2_7rMflxW.csv')"
   ]
  },
  {
   "cell_type": "code",
   "execution_count": 4,
   "metadata": {},
   "outputs": [
    {
     "data": {
      "text/plain": [
       "id                                     0\n",
       "perc_premium_paid_by_cash_credit       0\n",
       "age_in_days                            0\n",
       "Income                                 0\n",
       "Count_3-6_months_late                 97\n",
       "Count_6-12_months_late                97\n",
       "Count_more_than_12_months_late        97\n",
       "application_underwriting_score      2974\n",
       "no_of_premiums_paid                    0\n",
       "sourcing_channel                       0\n",
       "residence_area_type                    0\n",
       "target                                 0\n",
       "dtype: int64"
      ]
     },
     "execution_count": 4,
     "metadata": {},
     "output_type": "execute_result"
    }
   ],
   "source": [
    "pd.isnull(df).sum()"
   ]
  },
  {
   "cell_type": "code",
   "execution_count": 83,
   "metadata": {},
   "outputs": [
    {
     "data": {
      "text/plain": [
       "id                                     0\n",
       "perc_premium_paid_by_cash_credit       0\n",
       "age_in_days                            0\n",
       "Income                                 0\n",
       "Count_3-6_months_late                 31\n",
       "Count_6-12_months_late                31\n",
       "Count_more_than_12_months_late        31\n",
       "application_underwriting_score      1323\n",
       "no_of_premiums_paid                    0\n",
       "sourcing_channel                       0\n",
       "residence_area_type                    0\n",
       "dtype: int64"
      ]
     },
     "execution_count": 83,
     "metadata": {},
     "output_type": "execute_result"
    }
   ],
   "source": [
    "test.isnull().sum()"
   ]
  },
  {
   "cell_type": "markdown",
   "metadata": {},
   "source": [
    "# Filling Missing Values"
   ]
  },
  {
   "cell_type": "code",
   "execution_count": 5,
   "metadata": {},
   "outputs": [
    {
     "data": {
      "text/plain": [
       "0.0     66801\n",
       "1.0      8826\n",
       "2.0      2519\n",
       "3.0       954\n",
       "4.0       374\n",
       "5.0       168\n",
       "6.0        68\n",
       "7.0        23\n",
       "8.0        15\n",
       "9.0         4\n",
       "11.0        1\n",
       "12.0        1\n",
       "13.0        1\n",
       "10.0        1\n",
       "Name: Count_3-6_months_late, dtype: int64"
      ]
     },
     "execution_count": 5,
     "metadata": {},
     "output_type": "execute_result"
    }
   ],
   "source": [
    "df['Count_3-6_months_late'].value_counts()"
   ]
  },
  {
   "cell_type": "code",
   "execution_count": 146,
   "metadata": {},
   "outputs": [],
   "source": [
    "df['Count_3-6_months_late'].fillna(0, inplace=True)"
   ]
  },
  {
   "cell_type": "code",
   "execution_count": 147,
   "metadata": {},
   "outputs": [],
   "source": [
    "test['Count_3-6_months_late'].fillna(0, inplace=True)"
   ]
  },
  {
   "cell_type": "code",
   "execution_count": 148,
   "metadata": {},
   "outputs": [
    {
     "data": {
      "text/plain": [
       "0.0     66898\n",
       "1.0      8826\n",
       "2.0      2519\n",
       "3.0       954\n",
       "4.0       374\n",
       "5.0       168\n",
       "6.0        68\n",
       "7.0        23\n",
       "8.0        15\n",
       "9.0         4\n",
       "11.0        1\n",
       "12.0        1\n",
       "13.0        1\n",
       "10.0        1\n",
       "Name: Count_3-6_months_late, dtype: int64"
      ]
     },
     "execution_count": 148,
     "metadata": {},
     "output_type": "execute_result"
    }
   ],
   "source": [
    "df['Count_3-6_months_late'].value_counts()"
   ]
  },
  {
   "cell_type": "code",
   "execution_count": 149,
   "metadata": {},
   "outputs": [
    {
     "data": {
      "text/plain": [
       "0.0     75831\n",
       "1.0      2680\n",
       "2.0       693\n",
       "3.0       317\n",
       "4.0       130\n",
       "5.0        46\n",
       "6.0        26\n",
       "7.0        11\n",
       "8.0         5\n",
       "10.0        4\n",
       "9.0         4\n",
       "14.0        2\n",
       "11.0        2\n",
       "13.0        2\n",
       "17.0        1\n",
       "12.0        1\n",
       "15.0        1\n",
       "Name: Count_6-12_months_late, dtype: int64"
      ]
     },
     "execution_count": 149,
     "metadata": {},
     "output_type": "execute_result"
    }
   ],
   "source": [
    "df['Count_6-12_months_late'].value_counts()"
   ]
  },
  {
   "cell_type": "code",
   "execution_count": 150,
   "metadata": {},
   "outputs": [],
   "source": [
    "df['Count_6-12_months_late'].fillna(0, inplace=True)"
   ]
  },
  {
   "cell_type": "code",
   "execution_count": 151,
   "metadata": {},
   "outputs": [],
   "source": [
    "test['Count_6-12_months_late'].fillna(0, inplace=True)"
   ]
  },
  {
   "cell_type": "code",
   "execution_count": 152,
   "metadata": {},
   "outputs": [
    {
     "data": {
      "text/plain": [
       "0.0     75928\n",
       "1.0      2680\n",
       "2.0       693\n",
       "3.0       317\n",
       "4.0       130\n",
       "5.0        46\n",
       "6.0        26\n",
       "7.0        11\n",
       "8.0         5\n",
       "10.0        4\n",
       "9.0         4\n",
       "14.0        2\n",
       "11.0        2\n",
       "13.0        2\n",
       "17.0        1\n",
       "12.0        1\n",
       "15.0        1\n",
       "Name: Count_6-12_months_late, dtype: int64"
      ]
     },
     "execution_count": 152,
     "metadata": {},
     "output_type": "execute_result"
    }
   ],
   "source": [
    "df['Count_6-12_months_late'].value_counts()"
   ]
  },
  {
   "cell_type": "code",
   "execution_count": 153,
   "metadata": {},
   "outputs": [
    {
     "data": {
      "text/plain": [
       "0.0     76038\n",
       "1.0      2996\n",
       "2.0       498\n",
       "3.0       151\n",
       "4.0        48\n",
       "5.0        13\n",
       "6.0         6\n",
       "7.0         3\n",
       "8.0         2\n",
       "11.0        1\n",
       "Name: Count_more_than_12_months_late, dtype: int64"
      ]
     },
     "execution_count": 153,
     "metadata": {},
     "output_type": "execute_result"
    }
   ],
   "source": [
    "df['Count_more_than_12_months_late'].value_counts()"
   ]
  },
  {
   "cell_type": "code",
   "execution_count": 154,
   "metadata": {},
   "outputs": [],
   "source": [
    "df['Count_more_than_12_months_late'].fillna(0, inplace=True)"
   ]
  },
  {
   "cell_type": "code",
   "execution_count": 155,
   "metadata": {},
   "outputs": [],
   "source": [
    "test['Count_more_than_12_months_late'].fillna(0, inplace=True)"
   ]
  },
  {
   "cell_type": "code",
   "execution_count": 156,
   "metadata": {
    "scrolled": true
   },
   "outputs": [
    {
     "data": {
      "text/plain": [
       "0.0     76135\n",
       "1.0      2996\n",
       "2.0       498\n",
       "3.0       151\n",
       "4.0        48\n",
       "5.0        13\n",
       "6.0         6\n",
       "7.0         3\n",
       "8.0         2\n",
       "11.0        1\n",
       "Name: Count_more_than_12_months_late, dtype: int64"
      ]
     },
     "execution_count": 156,
     "metadata": {},
     "output_type": "execute_result"
    }
   ],
   "source": [
    "df['Count_more_than_12_months_late'].value_counts()"
   ]
  },
  {
   "cell_type": "code",
   "execution_count": 157,
   "metadata": {},
   "outputs": [
    {
     "data": {
      "text/plain": [
       "<matplotlib.axes._subplots.AxesSubplot at 0x108ac3b0>"
      ]
     },
     "execution_count": 157,
     "metadata": {},
     "output_type": "execute_result"
    },
    {
     "data": {
      "image/png": "[encoded data removed]",
      "text/plain": [
       "<Figure size 432x288 with 1 Axes>"
      ]
     },
     "metadata": {
      "needs_background": "light"
     },
     "output_type": "display_data"
    }
   ],
   "source": [
    "sns.distplot(np.exp(df['application_underwriting_score'].fillna(99.21)))"
   ]
  },
  {
   "cell_type": "code",
   "execution_count": 158,
   "metadata": {},
   "outputs": [
    {
     "data": {
      "text/plain": [
       "99.21"
      ]
     },
     "execution_count": 158,
     "metadata": {},
     "output_type": "execute_result"
    }
   ],
   "source": [
    "df['application_underwriting_score'].median()"
   ]
  },
  {
   "cell_type": "code",
   "execution_count": 159,
   "metadata": {},
   "outputs": [
    {
     "data": {
      "text/plain": [
       "99.21"
      ]
     },
     "execution_count": 159,
     "metadata": {},
     "output_type": "execute_result"
    }
   ],
   "source": [
    "test['application_underwriting_score'].median()"
   ]
  },
  {
   "cell_type": "code",
   "execution_count": 160,
   "metadata": {},
   "outputs": [],
   "source": [
    "df['application_underwriting_score'].fillna(99.21, inplace=True)"
   ]
  },
  {
   "cell_type": "code",
   "execution_count": 161,
   "metadata": {},
   "outputs": [],
   "source": [
    "test['application_underwriting_score'].fillna(99.21, inplace=True)"
   ]
  },
  {
   "cell_type": "code",
   "execution_count": 162,
   "metadata": {},
   "outputs": [
    {
     "data": {
      "text/plain": [
       "id                                    int64\n",
       "perc_premium_paid_by_cash_credit    float64\n",
       "age_in_days                           int64\n",
       "Income                                int64\n",
       "Count_3-6_months_late               float64\n",
       "Count_6-12_months_late              float64\n",
       "Count_more_than_12_months_late      float64\n",
       "application_underwriting_score      float64\n",
       "no_of_premiums_paid                   int64\n",
       "sourcing_channel                     object\n",
       "residence_area_type                  object\n",
       "target                                int64\n",
       "dtype: object"
      ]
     },
     "execution_count": 162,
     "metadata": {},
     "output_type": "execute_result"
    }
   ],
   "source": [
    "df.dtypes"
   ]
  },
  {
   "cell_type": "code",
   "execution_count": null,
   "metadata": {},
   "outputs": [],
   "source": []
  },
  {
   "cell_type": "code",
   "execution_count": null,
   "metadata": {},
   "outputs": [],
   "source": []
  },
  {
   "cell_type": "code",
   "execution_count": 163,
   "metadata": {},
   "outputs": [],
   "source": [
    "df = pd.concat([df,pd.get_dummies(df['sourcing_channel'],prefix = str('source'),prefix_sep='_')],axis = 1)"
   ]
  },
  {
   "cell_type": "code",
   "execution_count": 164,
   "metadata": {},
   "outputs": [],
   "source": [
    "test = pd.concat([test,pd.get_dummies(test['sourcing_channel'],prefix = str('source'),prefix_sep='_')],axis = 1)"
   ]
  },
  {
   "cell_type": "code",
   "execution_count": 165,
   "metadata": {},
   "outputs": [],
   "source": [
    "df = pd.concat([df,pd.get_dummies(df['residence_area_type'],prefix = str('residence'),prefix_sep='_')],axis = 1)"
   ]
  },
  {
   "cell_type": "code",
   "execution_count": 166,
   "metadata": {},
   "outputs": [],
   "source": [
    "test = pd.concat([test,pd.get_dummies(test['residence_area_type'],prefix = str('residence'),prefix_sep='_')],axis = 1)"
   ]
  },
  {
   "cell_type": "code",
   "execution_count": 167,
   "metadata": {},
   "outputs": [],
   "source": [
    "df=df.drop([\"sourcing_channel\", \"residence_area_type\"],1)"
   ]
  },
  {
   "cell_type": "code",
   "execution_count": 168,
   "metadata": {},
   "outputs": [],
   "source": [
    "test=test.drop([\"sourcing_channel\", \"residence_area_type\"],1)"
   ]
  },
  {
   "cell_type": "code",
   "execution_count": null,
   "metadata": {},
   "outputs": [],
   "source": []
  },
  {
   "cell_type": "code",
   "execution_count": 169,
   "metadata": {},
   "outputs": [
    {
     "data": {
      "text/html": [
       "<div>\n",
       "<style scoped>\n",
       "    .dataframe tbody tr th:only-of-type {\n",
       "        vertical-align: middle;\n",
       "    }\n",
       "\n",
       "    .dataframe tbody tr th {\n",
       "        vertical-align: top;\n",
       "    }\n",
       "\n",
       "    .dataframe thead th {\n",
       "        text-align: right;\n",
       "    }\n",
       "</style>\n",
       "<table border=\"1\" class=\"dataframe\">\n",
       "  <thead>\n",
       "    <tr style=\"text-align: right;\">\n",
       "      <th></th>\n",
       "      <th>id</th>\n",
       "      <th>perc_premium_paid_by_cash_credit</th>\n",
       "      <th>age_in_days</th>\n",
       "      <th>Income</th>\n",
       "      <th>Count_3-6_months_late</th>\n",
       "      <th>Count_6-12_months_late</th>\n",
       "      <th>Count_more_than_12_months_late</th>\n",
       "      <th>application_underwriting_score</th>\n",
       "      <th>no_of_premiums_paid</th>\n",
       "      <th>target</th>\n",
       "      <th>source_A</th>\n",
       "      <th>source_B</th>\n",
       "      <th>source_C</th>\n",
       "      <th>source_D</th>\n",
       "      <th>source_E</th>\n",
       "      <th>residence_Rural</th>\n",
       "      <th>residence_Urban</th>\n",
       "    </tr>\n",
       "  </thead>\n",
       "  <tbody>\n",
       "    <tr>\n",
       "      <th>0</th>\n",
       "      <td>110936</td>\n",
       "      <td>0.429</td>\n",
       "      <td>12058</td>\n",
       "      <td>355060</td>\n",
       "      <td>0.0</td>\n",
       "      <td>0.0</td>\n",
       "      <td>0.0</td>\n",
       "      <td>99.02</td>\n",
       "      <td>13</td>\n",
       "      <td>1</td>\n",
       "      <td>0</td>\n",
       "      <td>0</td>\n",
       "      <td>1</td>\n",
       "      <td>0</td>\n",
       "      <td>0</td>\n",
       "      <td>0</td>\n",
       "      <td>1</td>\n",
       "    </tr>\n",
       "    <tr>\n",
       "      <th>1</th>\n",
       "      <td>41492</td>\n",
       "      <td>0.010</td>\n",
       "      <td>21546</td>\n",
       "      <td>315150</td>\n",
       "      <td>0.0</td>\n",
       "      <td>0.0</td>\n",
       "      <td>0.0</td>\n",
       "      <td>99.89</td>\n",
       "      <td>21</td>\n",
       "      <td>1</td>\n",
       "      <td>1</td>\n",
       "      <td>0</td>\n",
       "      <td>0</td>\n",
       "      <td>0</td>\n",
       "      <td>0</td>\n",
       "      <td>0</td>\n",
       "      <td>1</td>\n",
       "    </tr>\n",
       "    <tr>\n",
       "      <th>2</th>\n",
       "      <td>31300</td>\n",
       "      <td>0.917</td>\n",
       "      <td>17531</td>\n",
       "      <td>84140</td>\n",
       "      <td>2.0</td>\n",
       "      <td>3.0</td>\n",
       "      <td>1.0</td>\n",
       "      <td>98.69</td>\n",
       "      <td>7</td>\n",
       "      <td>0</td>\n",
       "      <td>0</td>\n",
       "      <td>0</td>\n",
       "      <td>1</td>\n",
       "      <td>0</td>\n",
       "      <td>0</td>\n",
       "      <td>1</td>\n",
       "      <td>0</td>\n",
       "    </tr>\n",
       "    <tr>\n",
       "      <th>3</th>\n",
       "      <td>19415</td>\n",
       "      <td>0.049</td>\n",
       "      <td>15341</td>\n",
       "      <td>250510</td>\n",
       "      <td>0.0</td>\n",
       "      <td>0.0</td>\n",
       "      <td>0.0</td>\n",
       "      <td>99.57</td>\n",
       "      <td>9</td>\n",
       "      <td>1</td>\n",
       "      <td>1</td>\n",
       "      <td>0</td>\n",
       "      <td>0</td>\n",
       "      <td>0</td>\n",
       "      <td>0</td>\n",
       "      <td>0</td>\n",
       "      <td>1</td>\n",
       "    </tr>\n",
       "    <tr>\n",
       "      <th>4</th>\n",
       "      <td>99379</td>\n",
       "      <td>0.052</td>\n",
       "      <td>31400</td>\n",
       "      <td>198680</td>\n",
       "      <td>0.0</td>\n",
       "      <td>0.0</td>\n",
       "      <td>0.0</td>\n",
       "      <td>99.87</td>\n",
       "      <td>12</td>\n",
       "      <td>1</td>\n",
       "      <td>0</td>\n",
       "      <td>1</td>\n",
       "      <td>0</td>\n",
       "      <td>0</td>\n",
       "      <td>0</td>\n",
       "      <td>0</td>\n",
       "      <td>1</td>\n",
       "    </tr>\n",
       "  </tbody>\n",
       "</table>\n",
       "</div>"
      ],
      "text/plain": [
       "       id  perc_premium_paid_by_cash_credit  age_in_days  Income  \\\n",
       "0  110936                             0.429        12058  355060   \n",
       "1   41492                             0.010        21546  315150   \n",
       "2   31300                             0.917        17531   84140   \n",
       "3   19415                             0.049        15341  250510   \n",
       "4   99379                             0.052        31400  198680   \n",
       "\n",
       "   Count_3-6_months_late  Count_6-12_months_late  \\\n",
       "0                    0.0                     0.0   \n",
       "1                    0.0                     0.0   \n",
       "2                    2.0                     3.0   \n",
       "3                    0.0                     0.0   \n",
       "4                    0.0                     0.0   \n",
       "\n",
       "   Count_more_than_12_months_late  application_underwriting_score  \\\n",
       "0                             0.0                           99.02   \n",
       "1                             0.0                           99.89   \n",
       "2                             1.0                           98.69   \n",
       "3                             0.0                           99.57   \n",
       "4                             0.0                           99.87   \n",
       "\n",
       "   no_of_premiums_paid  target  source_A  source_B  source_C  source_D  \\\n",
       "0                   13       1         0         0         1         0   \n",
       "1                   21       1         1         0         0         0   \n",
       "2                    7       0         0         0         1         0   \n",
       "3                    9       1         1         0         0         0   \n",
       "4                   12       1         0         1         0         0   \n",
       "\n",
       "   source_E  residence_Rural  residence_Urban  \n",
       "0         0                0                1  \n",
       "1         0                0                1  \n",
       "2         0                1                0  \n",
       "3         0                0                1  \n",
       "4         0                0                1  "
      ]
     },
     "execution_count": 169,
     "metadata": {},
     "output_type": "execute_result"
    }
   ],
   "source": [
    "df.head()"
   ]
  },
  {
   "cell_type": "code",
   "execution_count": 170,
   "metadata": {},
   "outputs": [
    {
     "data": {
      "text/html": [
       "<div>\n",
       "<style scoped>\n",
       "    .dataframe tbody tr th:only-of-type {\n",
       "        vertical-align: middle;\n",
       "    }\n",
       "\n",
       "    .dataframe tbody tr th {\n",
       "        vertical-align: top;\n",
       "    }\n",
       "\n",
       "    .dataframe thead th {\n",
       "        text-align: right;\n",
       "    }\n",
       "</style>\n",
       "<table border=\"1\" class=\"dataframe\">\n",
       "  <thead>\n",
       "    <tr style=\"text-align: right;\">\n",
       "      <th></th>\n",
       "      <th>id</th>\n",
       "      <th>perc_premium_paid_by_cash_credit</th>\n",
       "      <th>age_in_days</th>\n",
       "      <th>Income</th>\n",
       "      <th>Count_3-6_months_late</th>\n",
       "      <th>Count_6-12_months_late</th>\n",
       "      <th>Count_more_than_12_months_late</th>\n",
       "      <th>application_underwriting_score</th>\n",
       "      <th>no_of_premiums_paid</th>\n",
       "      <th>source_A</th>\n",
       "      <th>source_B</th>\n",
       "      <th>source_C</th>\n",
       "      <th>source_D</th>\n",
       "      <th>source_E</th>\n",
       "      <th>residence_Rural</th>\n",
       "      <th>residence_Urban</th>\n",
       "    </tr>\n",
       "  </thead>\n",
       "  <tbody>\n",
       "    <tr>\n",
       "      <th>0</th>\n",
       "      <td>649</td>\n",
       "      <td>0.001</td>\n",
       "      <td>27384</td>\n",
       "      <td>51150</td>\n",
       "      <td>0.0</td>\n",
       "      <td>0.0</td>\n",
       "      <td>0.0</td>\n",
       "      <td>99.89</td>\n",
       "      <td>7</td>\n",
       "      <td>1</td>\n",
       "      <td>0</td>\n",
       "      <td>0</td>\n",
       "      <td>0</td>\n",
       "      <td>0</td>\n",
       "      <td>1</td>\n",
       "      <td>0</td>\n",
       "    </tr>\n",
       "    <tr>\n",
       "      <th>1</th>\n",
       "      <td>81136</td>\n",
       "      <td>0.124</td>\n",
       "      <td>23735</td>\n",
       "      <td>285140</td>\n",
       "      <td>0.0</td>\n",
       "      <td>0.0</td>\n",
       "      <td>0.0</td>\n",
       "      <td>98.93</td>\n",
       "      <td>19</td>\n",
       "      <td>1</td>\n",
       "      <td>0</td>\n",
       "      <td>0</td>\n",
       "      <td>0</td>\n",
       "      <td>0</td>\n",
       "      <td>0</td>\n",
       "      <td>1</td>\n",
       "    </tr>\n",
       "    <tr>\n",
       "      <th>2</th>\n",
       "      <td>70762</td>\n",
       "      <td>1.000</td>\n",
       "      <td>17170</td>\n",
       "      <td>186030</td>\n",
       "      <td>0.0</td>\n",
       "      <td>0.0</td>\n",
       "      <td>0.0</td>\n",
       "      <td>99.21</td>\n",
       "      <td>2</td>\n",
       "      <td>0</td>\n",
       "      <td>1</td>\n",
       "      <td>0</td>\n",
       "      <td>0</td>\n",
       "      <td>0</td>\n",
       "      <td>0</td>\n",
       "      <td>1</td>\n",
       "    </tr>\n",
       "    <tr>\n",
       "      <th>3</th>\n",
       "      <td>53935</td>\n",
       "      <td>0.198</td>\n",
       "      <td>16068</td>\n",
       "      <td>123540</td>\n",
       "      <td>0.0</td>\n",
       "      <td>0.0</td>\n",
       "      <td>0.0</td>\n",
       "      <td>99.00</td>\n",
       "      <td>11</td>\n",
       "      <td>0</td>\n",
       "      <td>1</td>\n",
       "      <td>0</td>\n",
       "      <td>0</td>\n",
       "      <td>0</td>\n",
       "      <td>1</td>\n",
       "      <td>0</td>\n",
       "    </tr>\n",
       "    <tr>\n",
       "      <th>4</th>\n",
       "      <td>15476</td>\n",
       "      <td>0.041</td>\n",
       "      <td>10591</td>\n",
       "      <td>200020</td>\n",
       "      <td>1.0</td>\n",
       "      <td>0.0</td>\n",
       "      <td>0.0</td>\n",
       "      <td>99.17</td>\n",
       "      <td>14</td>\n",
       "      <td>1</td>\n",
       "      <td>0</td>\n",
       "      <td>0</td>\n",
       "      <td>0</td>\n",
       "      <td>0</td>\n",
       "      <td>1</td>\n",
       "      <td>0</td>\n",
       "    </tr>\n",
       "  </tbody>\n",
       "</table>\n",
       "</div>"
      ],
      "text/plain": [
       "      id  perc_premium_paid_by_cash_credit  age_in_days  Income  \\\n",
       "0    649                             0.001        27384   51150   \n",
       "1  81136                             0.124        23735  285140   \n",
       "2  70762                             1.000        17170  186030   \n",
       "3  53935                             0.198        16068  123540   \n",
       "4  15476                             0.041        10591  200020   \n",
       "\n",
       "   Count_3-6_months_late  Count_6-12_months_late  \\\n",
       "0                    0.0                     0.0   \n",
       "1                    0.0                     0.0   \n",
       "2                    0.0                     0.0   \n",
       "3                    0.0                     0.0   \n",
       "4                    1.0                     0.0   \n",
       "\n",
       "   Count_more_than_12_months_late  application_underwriting_score  \\\n",
       "0                             0.0                           99.89   \n",
       "1                             0.0                           98.93   \n",
       "2                             0.0                           99.21   \n",
       "3                             0.0                           99.00   \n",
       "4                             0.0                           99.17   \n",
       "\n",
       "   no_of_premiums_paid  source_A  source_B  source_C  source_D  source_E  \\\n",
       "0                    7         1         0         0         0         0   \n",
       "1                   19         1         0         0         0         0   \n",
       "2                    2         0         1         0         0         0   \n",
       "3                   11         0         1         0         0         0   \n",
       "4                   14         1         0         0         0         0   \n",
       "\n",
       "   residence_Rural  residence_Urban  \n",
       "0                1                0  \n",
       "1                0                1  \n",
       "2                0                1  \n",
       "3                1                0  \n",
       "4                1                0  "
      ]
     },
     "execution_count": 170,
     "metadata": {},
     "output_type": "execute_result"
    }
   ],
   "source": [
    "test.head()"
   ]
  },
  {
   "cell_type": "code",
   "execution_count": null,
   "metadata": {},
   "outputs": [],
   "source": []
  },
  {
   "cell_type": "code",
   "execution_count": null,
   "metadata": {},
   "outputs": [],
   "source": []
  },
  {
   "cell_type": "code",
   "execution_count": null,
   "metadata": {},
   "outputs": [],
   "source": []
  },
  {
   "cell_type": "code",
   "execution_count": null,
   "metadata": {},
   "outputs": [],
   "source": []
  },
  {
   "cell_type": "code",
   "execution_count": null,
   "metadata": {},
   "outputs": [],
   "source": []
  },
  {
   "cell_type": "code",
   "execution_count": null,
   "metadata": {},
   "outputs": [],
   "source": []
  },
  {
   "cell_type": "code",
   "execution_count": null,
   "metadata": {},
   "outputs": [],
   "source": []
  },
  {
   "cell_type": "code",
   "execution_count": 171,
   "metadata": {},
   "outputs": [],
   "source": [
    "test=test.drop([\"id\"],1)"
   ]
  },
  {
   "cell_type": "code",
   "execution_count": 172,
   "metadata": {},
   "outputs": [],
   "source": [
    "df=df.drop([\"id\"],1)"
   ]
  },
  {
   "cell_type": "code",
   "execution_count": null,
   "metadata": {},
   "outputs": [],
   "source": []
  },
  {
   "cell_type": "code",
   "execution_count": 173,
   "metadata": {},
   "outputs": [],
   "source": [
    "num_cols=['perc_premium_paid_by_cash_credit','age_in_days','Income','Count_3-6_months_late','Count_6-12_months_late','Count_more_than_12_months_late','application_underwriting_score','no_of_premiums_paid']"
   ]
  },
  {
   "cell_type": "code",
   "execution_count": null,
   "metadata": {},
   "outputs": [],
   "source": []
  },
  {
   "cell_type": "code",
   "execution_count": null,
   "metadata": {},
   "outputs": [],
   "source": []
  },
  {
   "cell_type": "code",
   "execution_count": 174,
   "metadata": {},
   "outputs": [],
   "source": [
    "std = StandardScaler()\n",
    "scaled = std.fit_transform(df[num_cols])\n",
    "scaled = pd.DataFrame(scaled,columns=num_cols)"
   ]
  },
  {
   "cell_type": "code",
   "execution_count": 175,
   "metadata": {},
   "outputs": [],
   "source": [
    "std = StandardScaler()\n",
    "scaledtt = std.fit_transform(test[num_cols])\n",
    "scaledtt = pd.DataFrame(scaledtt,columns=num_cols)"
   ]
  },
  {
   "cell_type": "code",
   "execution_count": null,
   "metadata": {},
   "outputs": [],
   "source": []
  },
  {
   "cell_type": "code",
   "execution_count": null,
   "metadata": {},
   "outputs": [],
   "source": []
  },
  {
   "cell_type": "code",
   "execution_count": null,
   "metadata": {},
   "outputs": [],
   "source": []
  },
  {
   "cell_type": "code",
   "execution_count": 176,
   "metadata": {},
   "outputs": [],
   "source": [
    "df_c = df.copy()\n",
    "df = df.drop(columns = num_cols,axis = 1)\n",
    "df = df.merge(scaled,left_index=True,right_index=True,how = \"left\")"
   ]
  },
  {
   "cell_type": "code",
   "execution_count": 177,
   "metadata": {},
   "outputs": [],
   "source": [
    "test_c = test.copy()\n",
    "test = test.drop(columns = num_cols,axis = 1)\n",
    "test = test.merge(scaledtt,left_index=True,right_index=True,how = \"left\")"
   ]
  },
  {
   "cell_type": "code",
   "execution_count": 178,
   "metadata": {},
   "outputs": [],
   "source": [
    "y_all = df.target\n",
    "df = df.drop(['target'],axis = 1)"
   ]
  },
  {
   "cell_type": "code",
   "execution_count": 179,
   "metadata": {},
   "outputs": [
    {
     "data": {
      "text/html": [
       "<div>\n",
       "<style scoped>\n",
       "    .dataframe tbody tr th:only-of-type {\n",
       "        vertical-align: middle;\n",
       "    }\n",
       "\n",
       "    .dataframe tbody tr th {\n",
       "        vertical-align: top;\n",
       "    }\n",
       "\n",
       "    .dataframe thead th {\n",
       "        text-align: right;\n",
       "    }\n",
       "</style>\n",
       "<table border=\"1\" class=\"dataframe\">\n",
       "  <thead>\n",
       "    <tr style=\"text-align: right;\">\n",
       "      <th></th>\n",
       "      <th>source_A</th>\n",
       "      <th>source_B</th>\n",
       "      <th>source_C</th>\n",
       "      <th>source_D</th>\n",
       "      <th>source_E</th>\n",
       "      <th>residence_Rural</th>\n",
       "      <th>residence_Urban</th>\n",
       "      <th>perc_premium_paid_by_cash_credit</th>\n",
       "      <th>age_in_days</th>\n",
       "      <th>Income</th>\n",
       "      <th>Count_3-6_months_late</th>\n",
       "      <th>Count_6-12_months_late</th>\n",
       "      <th>Count_more_than_12_months_late</th>\n",
       "      <th>application_underwriting_score</th>\n",
       "      <th>no_of_premiums_paid</th>\n",
       "    </tr>\n",
       "  </thead>\n",
       "  <tbody>\n",
       "    <tr>\n",
       "      <th>0</th>\n",
       "      <td>0</td>\n",
       "      <td>0</td>\n",
       "      <td>1</td>\n",
       "      <td>0</td>\n",
       "      <td>0</td>\n",
       "      <td>0</td>\n",
       "      <td>1</td>\n",
       "      <td>0.342514</td>\n",
       "      <td>-1.303341</td>\n",
       "      <td>0.294440</td>\n",
       "      <td>-0.359383</td>\n",
       "      <td>-0.179012</td>\n",
       "      <td>-0.192199</td>\n",
       "      <td>-0.072421</td>\n",
       "      <td>0.413122</td>\n",
       "    </tr>\n",
       "    <tr>\n",
       "      <th>1</th>\n",
       "      <td>1</td>\n",
       "      <td>0</td>\n",
       "      <td>0</td>\n",
       "      <td>0</td>\n",
       "      <td>0</td>\n",
       "      <td>0</td>\n",
       "      <td>1</td>\n",
       "      <td>-0.908559</td>\n",
       "      <td>0.518231</td>\n",
       "      <td>0.214070</td>\n",
       "      <td>-0.359383</td>\n",
       "      <td>-0.179012</td>\n",
       "      <td>-0.192199</td>\n",
       "      <td>1.125282</td>\n",
       "      <td>1.960315</td>\n",
       "    </tr>\n",
       "    <tr>\n",
       "      <th>2</th>\n",
       "      <td>0</td>\n",
       "      <td>0</td>\n",
       "      <td>1</td>\n",
       "      <td>0</td>\n",
       "      <td>0</td>\n",
       "      <td>1</td>\n",
       "      <td>0</td>\n",
       "      <td>1.799611</td>\n",
       "      <td>-0.252597</td>\n",
       "      <td>-0.251132</td>\n",
       "      <td>2.534563</td>\n",
       "      <td>6.697811</td>\n",
       "      <td>3.014592</td>\n",
       "      <td>-0.526723</td>\n",
       "      <td>-0.747272</td>\n",
       "    </tr>\n",
       "    <tr>\n",
       "      <th>3</th>\n",
       "      <td>1</td>\n",
       "      <td>0</td>\n",
       "      <td>0</td>\n",
       "      <td>0</td>\n",
       "      <td>0</td>\n",
       "      <td>0</td>\n",
       "      <td>1</td>\n",
       "      <td>-0.792111</td>\n",
       "      <td>-0.673048</td>\n",
       "      <td>0.083900</td>\n",
       "      <td>-0.359383</td>\n",
       "      <td>-0.179012</td>\n",
       "      <td>-0.192199</td>\n",
       "      <td>0.684748</td>\n",
       "      <td>-0.360474</td>\n",
       "    </tr>\n",
       "    <tr>\n",
       "      <th>4</th>\n",
       "      <td>0</td>\n",
       "      <td>1</td>\n",
       "      <td>0</td>\n",
       "      <td>0</td>\n",
       "      <td>0</td>\n",
       "      <td>0</td>\n",
       "      <td>1</td>\n",
       "      <td>-0.783153</td>\n",
       "      <td>2.410071</td>\n",
       "      <td>-0.020474</td>\n",
       "      <td>-0.359383</td>\n",
       "      <td>-0.179012</td>\n",
       "      <td>-0.192199</td>\n",
       "      <td>1.097749</td>\n",
       "      <td>0.219723</td>\n",
       "    </tr>\n",
       "  </tbody>\n",
       "</table>\n",
       "</div>"
      ],
      "text/plain": [
       "   source_A  source_B  source_C  source_D  source_E  residence_Rural  \\\n",
       "0         0         0         1         0         0                0   \n",
       "1         1         0         0         0         0                0   \n",
       "2         0         0         1         0         0                1   \n",
       "3         1         0         0         0         0                0   \n",
       "4         0         1         0         0         0                0   \n",
       "\n",
       "   residence_Urban  perc_premium_paid_by_cash_credit  age_in_days    Income  \\\n",
       "0                1                          0.342514    -1.303341  0.294440   \n",
       "1                1                         -0.908559     0.518231  0.214070   \n",
       "2                0                          1.799611    -0.252597 -0.251132   \n",
       "3                1                         -0.792111    -0.673048  0.083900   \n",
       "4                1                         -0.783153     2.410071 -0.020474   \n",
       "\n",
       "   Count_3-6_months_late  Count_6-12_months_late  \\\n",
       "0              -0.359383               -0.179012   \n",
       "1              -0.359383               -0.179012   \n",
       "2               2.534563                6.697811   \n",
       "3              -0.359383               -0.179012   \n",
       "4              -0.359383               -0.179012   \n",
       "\n",
       "   Count_more_than_12_months_late  application_underwriting_score  \\\n",
       "0                       -0.192199                       -0.072421   \n",
       "1                       -0.192199                        1.125282   \n",
       "2                        3.014592                       -0.526723   \n",
       "3                       -0.192199                        0.684748   \n",
       "4                       -0.192199                        1.097749   \n",
       "\n",
       "   no_of_premiums_paid  \n",
       "0             0.413122  \n",
       "1             1.960315  \n",
       "2            -0.747272  \n",
       "3            -0.360474  \n",
       "4             0.219723  "
      ]
     },
     "execution_count": 179,
     "metadata": {},
     "output_type": "execute_result"
    }
   ],
   "source": [
    "df.head()"
   ]
  },
  {
   "cell_type": "code",
   "execution_count": 180,
   "metadata": {},
   "outputs": [
    {
     "data": {
      "text/html": [
       "<div>\n",
       "<style scoped>\n",
       "    .dataframe tbody tr th:only-of-type {\n",
       "        vertical-align: middle;\n",
       "    }\n",
       "\n",
       "    .dataframe tbody tr th {\n",
       "        vertical-align: top;\n",
       "    }\n",
       "\n",
       "    .dataframe thead th {\n",
       "        text-align: right;\n",
       "    }\n",
       "</style>\n",
       "<table border=\"1\" class=\"dataframe\">\n",
       "  <thead>\n",
       "    <tr style=\"text-align: right;\">\n",
       "      <th></th>\n",
       "      <th>source_A</th>\n",
       "      <th>source_B</th>\n",
       "      <th>source_C</th>\n",
       "      <th>source_D</th>\n",
       "      <th>source_E</th>\n",
       "      <th>residence_Rural</th>\n",
       "      <th>residence_Urban</th>\n",
       "      <th>perc_premium_paid_by_cash_credit</th>\n",
       "      <th>age_in_days</th>\n",
       "      <th>Income</th>\n",
       "      <th>Count_3-6_months_late</th>\n",
       "      <th>Count_6-12_months_late</th>\n",
       "      <th>Count_more_than_12_months_late</th>\n",
       "      <th>application_underwriting_score</th>\n",
       "      <th>no_of_premiums_paid</th>\n",
       "    </tr>\n",
       "  </thead>\n",
       "  <tbody>\n",
       "    <tr>\n",
       "      <th>0</th>\n",
       "      <td>1</td>\n",
       "      <td>0</td>\n",
       "      <td>0</td>\n",
       "      <td>0</td>\n",
       "      <td>0</td>\n",
       "      <td>1</td>\n",
       "      <td>0</td>\n",
       "      <td>-0.938344</td>\n",
       "      <td>1.631539</td>\n",
       "      <td>-0.561222</td>\n",
       "      <td>-0.347754</td>\n",
       "      <td>-0.177465</td>\n",
       "      <td>-0.189173</td>\n",
       "      <td>1.128107</td>\n",
       "      <td>-0.745751</td>\n",
       "    </tr>\n",
       "    <tr>\n",
       "      <th>1</th>\n",
       "      <td>1</td>\n",
       "      <td>0</td>\n",
       "      <td>0</td>\n",
       "      <td>0</td>\n",
       "      <td>0</td>\n",
       "      <td>0</td>\n",
       "      <td>1</td>\n",
       "      <td>-0.570140</td>\n",
       "      <td>0.936021</td>\n",
       "      <td>0.304607</td>\n",
       "      <td>-0.347754</td>\n",
       "      <td>-0.177465</td>\n",
       "      <td>-0.189173</td>\n",
       "      <td>-0.188787</td>\n",
       "      <td>1.554513</td>\n",
       "    </tr>\n",
       "    <tr>\n",
       "      <th>2</th>\n",
       "      <td>0</td>\n",
       "      <td>1</td>\n",
       "      <td>0</td>\n",
       "      <td>0</td>\n",
       "      <td>0</td>\n",
       "      <td>0</td>\n",
       "      <td>1</td>\n",
       "      <td>2.052192</td>\n",
       "      <td>-0.315302</td>\n",
       "      <td>-0.062128</td>\n",
       "      <td>-0.347754</td>\n",
       "      <td>-0.177465</td>\n",
       "      <td>-0.189173</td>\n",
       "      <td>0.195307</td>\n",
       "      <td>-1.704195</td>\n",
       "    </tr>\n",
       "    <tr>\n",
       "      <th>3</th>\n",
       "      <td>0</td>\n",
       "      <td>1</td>\n",
       "      <td>0</td>\n",
       "      <td>0</td>\n",
       "      <td>0</td>\n",
       "      <td>1</td>\n",
       "      <td>0</td>\n",
       "      <td>-0.348619</td>\n",
       "      <td>-0.525349</td>\n",
       "      <td>-0.293359</td>\n",
       "      <td>-0.347754</td>\n",
       "      <td>-0.177465</td>\n",
       "      <td>-0.189173</td>\n",
       "      <td>-0.092763</td>\n",
       "      <td>0.021004</td>\n",
       "    </tr>\n",
       "    <tr>\n",
       "      <th>4</th>\n",
       "      <td>1</td>\n",
       "      <td>0</td>\n",
       "      <td>0</td>\n",
       "      <td>0</td>\n",
       "      <td>0</td>\n",
       "      <td>1</td>\n",
       "      <td>0</td>\n",
       "      <td>-0.818603</td>\n",
       "      <td>-1.569293</td>\n",
       "      <td>-0.010361</td>\n",
       "      <td>1.110230</td>\n",
       "      <td>-0.177465</td>\n",
       "      <td>-0.189173</td>\n",
       "      <td>0.140437</td>\n",
       "      <td>0.596070</td>\n",
       "    </tr>\n",
       "  </tbody>\n",
       "</table>\n",
       "</div>"
      ],
      "text/plain": [
       "   source_A  source_B  source_C  source_D  source_E  residence_Rural  \\\n",
       "0         1         0         0         0         0                1   \n",
       "1         1         0         0         0         0                0   \n",
       "2         0         1         0         0         0                0   \n",
       "3         0         1         0         0         0                1   \n",
       "4         1         0         0         0         0                1   \n",
       "\n",
       "   residence_Urban  perc_premium_paid_by_cash_credit  age_in_days    Income  \\\n",
       "0                0                         -0.938344     1.631539 -0.561222   \n",
       "1                1                         -0.570140     0.936021  0.304607   \n",
       "2                1                          2.052192    -0.315302 -0.062128   \n",
       "3                0                         -0.348619    -0.525349 -0.293359   \n",
       "4                0                         -0.818603    -1.569293 -0.010361   \n",
       "\n",
       "   Count_3-6_months_late  Count_6-12_months_late  \\\n",
       "0              -0.347754               -0.177465   \n",
       "1              -0.347754               -0.177465   \n",
       "2              -0.347754               -0.177465   \n",
       "3              -0.347754               -0.177465   \n",
       "4               1.110230               -0.177465   \n",
       "\n",
       "   Count_more_than_12_months_late  application_underwriting_score  \\\n",
       "0                       -0.189173                        1.128107   \n",
       "1                       -0.189173                       -0.188787   \n",
       "2                       -0.189173                        0.195307   \n",
       "3                       -0.189173                       -0.092763   \n",
       "4                       -0.189173                        0.140437   \n",
       "\n",
       "   no_of_premiums_paid  \n",
       "0            -0.745751  \n",
       "1             1.554513  \n",
       "2            -1.704195  \n",
       "3             0.021004  \n",
       "4             0.596070  "
      ]
     },
     "execution_count": 180,
     "metadata": {},
     "output_type": "execute_result"
    }
   ],
   "source": [
    "test.head()"
   ]
  },
  {
   "cell_type": "code",
   "execution_count": 181,
   "metadata": {},
   "outputs": [
    {
     "data": {
      "text/plain": [
       "-0.9413375327547996"
      ]
     },
     "execution_count": 181,
     "metadata": {},
     "output_type": "execute_result"
    }
   ],
   "source": [
    "test[\"perc_premium_paid_by_cash_credit\"].min()"
   ]
  },
  {
   "cell_type": "code",
   "execution_count": 182,
   "metadata": {},
   "outputs": [
    {
     "data": {
      "text/plain": [
       "<matplotlib.axes._subplots.AxesSubplot at 0x1088b1d0>"
      ]
     },
     "execution_count": 182,
     "metadata": {},
     "output_type": "execute_result"
    },
    {
     "data": {
      "image/png": "[encoded data removed]",
      "text/plain": [
       "<Figure size 432x288 with 1 Axes>"
      ]
     },
     "metadata": {
      "needs_background": "light"
     },
     "output_type": "display_data"
    }
   ],
   "source": [
    "sns.distplot(np.log(test[\"perc_premium_paid_by_cash_credit\"]+1.09))"
   ]
  },
  {
   "cell_type": "code",
   "execution_count": 183,
   "metadata": {},
   "outputs": [
    {
     "data": {
      "text/plain": [
       "<matplotlib.axes._subplots.AxesSubplot at 0x11b24d90>"
      ]
     },
     "execution_count": 183,
     "metadata": {},
     "output_type": "execute_result"
    },
    {
     "data": {
      "image/png": "[encoded data removed]",
      "text/plain": [
       "<Figure size 432x288 with 1 Axes>"
      ]
     },
     "metadata": {
      "needs_background": "light"
     },
     "output_type": "display_data"
    }
   ],
   "source": [
    "sns.distplot(np.log(df[\"perc_premium_paid_by_cash_credit\"]+1.09))"
   ]
  },
  {
   "cell_type": "code",
   "execution_count": 184,
   "metadata": {},
   "outputs": [],
   "source": [
    "df[\"perc_premium_paid_by_cash_credit\"]=np.log(df[\"perc_premium_paid_by_cash_credit\"]+1.09)"
   ]
  },
  {
   "cell_type": "code",
   "execution_count": 185,
   "metadata": {},
   "outputs": [],
   "source": [
    "test[\"perc_premium_paid_by_cash_credit\"]=np.log(test[\"perc_premium_paid_by_cash_credit\"]+1.09)"
   ]
  },
  {
   "cell_type": "code",
   "execution_count": 216,
   "metadata": {},
   "outputs": [],
   "source": [
    "xx=df[\"Income\"]"
   ]
  },
  {
   "cell_type": "code",
   "execution_count": 267,
   "metadata": {},
   "outputs": [],
   "source": [
    "xxt=test[\"Income\"]"
   ]
  },
  {
   "cell_type": "code",
   "execution_count": 218,
   "metadata": {},
   "outputs": [],
   "source": [
    "xx1=xx[xx<0.6]"
   ]
  },
  {
   "cell_type": "code",
   "execution_count": 219,
   "metadata": {},
   "outputs": [],
   "source": [
    "xx2=xx[xx>0.6]"
   ]
  },
  {
   "cell_type": "code",
   "execution_count": 269,
   "metadata": {},
   "outputs": [
    {
     "data": {
      "text/plain": [
       "<matplotlib.axes._subplots.AxesSubplot at 0x162d3090>"
      ]
     },
     "execution_count": 269,
     "metadata": {},
     "output_type": "execute_result"
    },
    {
     "data": {
      "image/png": "[encoded data removed]",
      "text/plain": [
       "<Figure size 432x288 with 1 Axes>"
      ]
     },
     "metadata": {
      "needs_background": "light"
     },
     "output_type": "display_data"
    }
   ],
   "source": [
    "sns.distplot(test[test[\"Income\"]<0.6][\"Income\"])"
   ]
  },
  {
   "cell_type": "code",
   "execution_count": 270,
   "metadata": {},
   "outputs": [],
   "source": [
    "xxt1=xxt[xxt<0.6]"
   ]
  },
  {
   "cell_type": "code",
   "execution_count": 271,
   "metadata": {},
   "outputs": [],
   "source": [
    "xxt2=xxt[xxt>0.6]"
   ]
  },
  {
   "cell_type": "code",
   "execution_count": 272,
   "metadata": {},
   "outputs": [],
   "source": [
    "xxt2=xxt2/1000"
   ]
  },
  {
   "cell_type": "code",
   "execution_count": 279,
   "metadata": {},
   "outputs": [],
   "source": [
    "xxxt=pd.concat([xxt1,xxt2], ignore_index=False)"
   ]
  },
  {
   "cell_type": "code",
   "execution_count": 243,
   "metadata": {},
   "outputs": [],
   "source": [
    "xx2=xx2/1000"
   ]
  },
  {
   "cell_type": "code",
   "execution_count": 244,
   "metadata": {},
   "outputs": [],
   "source": [
    "xxx=pd.concat([xx1,xx2], ignore_index=False)"
   ]
  },
  {
   "cell_type": "code",
   "execution_count": 245,
   "metadata": {
    "collapsed": true
   },
   "outputs": [
    {
     "data": {
      "text/plain": [
       "0        0.294440\n",
       "1        0.214070\n",
       "2       -0.251132\n",
       "3        0.083900\n",
       "4       -0.020474\n",
       "5        0.147475\n",
       "6       -0.182140\n",
       "7       -0.057608\n",
       "8       -0.234257\n",
       "9       -0.204735\n",
       "10      -0.017615\n",
       "11      -0.174770\n",
       "12      -0.365616\n",
       "13      -0.146698\n",
       "14      -0.190779\n",
       "15      -0.239050\n",
       "16       0.405701\n",
       "17       0.213990\n",
       "18      -0.244306\n",
       "19      -0.113249\n",
       "20      -0.037773\n",
       "21       0.314356\n",
       "22       0.304609\n",
       "23       0.032709\n",
       "24       0.062815\n",
       "25       0.213909\n",
       "26      -0.370851\n",
       "27       0.056331\n",
       "28       0.374971\n",
       "29      -0.254354\n",
       "           ...   \n",
       "78380    0.000013\n",
       "78451    0.000014\n",
       "78522    0.000031\n",
       "78537    0.000008\n",
       "78547    0.000010\n",
       "78632    0.000010\n",
       "78658    0.000008\n",
       "78661    0.000011\n",
       "78684    0.000008\n",
       "78706    0.000007\n",
       "78739    0.000007\n",
       "78768    0.000022\n",
       "78845    0.000014\n",
       "78856    0.000044\n",
       "78866    0.000026\n",
       "78959    0.000011\n",
       "78997    0.000008\n",
       "79079    0.000008\n",
       "79338    0.000012\n",
       "79354    0.000006\n",
       "79357    0.000007\n",
       "79451    0.000018\n",
       "79587    0.000031\n",
       "79650    0.000011\n",
       "79664    0.000009\n",
       "79678    0.000011\n",
       "79739    0.000028\n",
       "79753    0.000039\n",
       "79792    0.000017\n",
       "79815    0.000011\n",
       "Name: Income, Length: 79853, dtype: float64"
      ]
     },
     "execution_count": 245,
     "metadata": {},
     "output_type": "execute_result"
    }
   ],
   "source": [
    "xxx"
   ]
  },
  {
   "cell_type": "code",
   "execution_count": 246,
   "metadata": {},
   "outputs": [
    {
     "data": {
      "text/plain": [
       "0.1435678085002093"
      ]
     },
     "execution_count": 246,
     "metadata": {},
     "output_type": "execute_result"
    }
   ],
   "source": [
    "xxx[79852]"
   ]
  },
  {
   "cell_type": "code",
   "execution_count": 285,
   "metadata": {},
   "outputs": [
    {
     "data": {
      "text/plain": [
       "<matplotlib.axes._subplots.AxesSubplot at 0x165c1f50>"
      ]
     },
     "execution_count": 285,
     "metadata": {},
     "output_type": "execute_result"
    },
    {
     "data": {
      "image/png": "[encoded data removed]",
      "text/plain": [
       "<Figure size 432x288 with 1 Axes>"
      ]
     },
     "metadata": {
      "needs_background": "light"
     },
     "output_type": "display_data"
    }
   ],
   "source": [
    "sns.distplot(np.sqrt((xxxt)+0.7))"
   ]
  },
  {
   "cell_type": "code",
   "execution_count": 257,
   "metadata": {},
   "outputs": [
    {
     "data": {
      "text/plain": [
       "<matplotlib.axes._subplots.AxesSubplot at 0x15bff1f0>"
      ]
     },
     "execution_count": 257,
     "metadata": {},
     "output_type": "execute_result"
    },
    {
     "data": {
      "image/png": "[encoded data removed]",
      "text/plain": [
       "<Figure size 432x288 with 1 Axes>"
      ]
     },
     "metadata": {
      "needs_background": "light"
     },
     "output_type": "display_data"
    }
   ],
   "source": [
    "sns.distplot(np.sqrt((xxx)+0.4))"
   ]
  },
  {
   "cell_type": "code",
   "execution_count": 259,
   "metadata": {},
   "outputs": [],
   "source": [
    "merged = pd.merge(left=df, left_index=True,right=xxx, right_index=True,how='inner')"
   ]
  },
  {
   "cell_type": "code",
   "execution_count": 287,
   "metadata": {},
   "outputs": [],
   "source": [
    "mergedt = pd.merge(left=test, left_index=True,right=xxxt, right_index=True,how='inner')"
   ]
  },
  {
   "cell_type": "code",
   "execution_count": 263,
   "metadata": {
    "collapsed": true
   },
   "outputs": [
    {
     "data": {
      "text/html": [
       "<div>\n",
       "<style scoped>\n",
       "    .dataframe tbody tr th:only-of-type {\n",
       "        vertical-align: middle;\n",
       "    }\n",
       "\n",
       "    .dataframe tbody tr th {\n",
       "        vertical-align: top;\n",
       "    }\n",
       "\n",
       "    .dataframe thead th {\n",
       "        text-align: right;\n",
       "    }\n",
       "</style>\n",
       "<table border=\"1\" class=\"dataframe\">\n",
       "  <thead>\n",
       "    <tr style=\"text-align: right;\">\n",
       "      <th></th>\n",
       "      <th>Income_x</th>\n",
       "      <th>Income_y</th>\n",
       "    </tr>\n",
       "  </thead>\n",
       "  <tbody>\n",
       "    <tr>\n",
       "      <th>0</th>\n",
       "      <td>0.294440</td>\n",
       "      <td>0.294440</td>\n",
       "    </tr>\n",
       "    <tr>\n",
       "      <th>1</th>\n",
       "      <td>0.214070</td>\n",
       "      <td>0.214070</td>\n",
       "    </tr>\n",
       "    <tr>\n",
       "      <th>2</th>\n",
       "      <td>-0.251132</td>\n",
       "      <td>-0.251132</td>\n",
       "    </tr>\n",
       "    <tr>\n",
       "      <th>3</th>\n",
       "      <td>0.083900</td>\n",
       "      <td>0.083900</td>\n",
       "    </tr>\n",
       "    <tr>\n",
       "      <th>4</th>\n",
       "      <td>-0.020474</td>\n",
       "      <td>-0.020474</td>\n",
       "    </tr>\n",
       "    <tr>\n",
       "      <th>5</th>\n",
       "      <td>0.147475</td>\n",
       "      <td>0.147475</td>\n",
       "    </tr>\n",
       "    <tr>\n",
       "      <th>6</th>\n",
       "      <td>-0.182140</td>\n",
       "      <td>-0.182140</td>\n",
       "    </tr>\n",
       "    <tr>\n",
       "      <th>7</th>\n",
       "      <td>-0.057608</td>\n",
       "      <td>-0.057608</td>\n",
       "    </tr>\n",
       "    <tr>\n",
       "      <th>8</th>\n",
       "      <td>-0.234257</td>\n",
       "      <td>-0.234257</td>\n",
       "    </tr>\n",
       "    <tr>\n",
       "      <th>9</th>\n",
       "      <td>-0.204735</td>\n",
       "      <td>-0.204735</td>\n",
       "    </tr>\n",
       "    <tr>\n",
       "      <th>10</th>\n",
       "      <td>-0.017615</td>\n",
       "      <td>-0.017615</td>\n",
       "    </tr>\n",
       "    <tr>\n",
       "      <th>11</th>\n",
       "      <td>-0.174770</td>\n",
       "      <td>-0.174770</td>\n",
       "    </tr>\n",
       "    <tr>\n",
       "      <th>12</th>\n",
       "      <td>-0.365616</td>\n",
       "      <td>-0.365616</td>\n",
       "    </tr>\n",
       "    <tr>\n",
       "      <th>13</th>\n",
       "      <td>-0.146698</td>\n",
       "      <td>-0.146698</td>\n",
       "    </tr>\n",
       "    <tr>\n",
       "      <th>14</th>\n",
       "      <td>-0.190779</td>\n",
       "      <td>-0.190779</td>\n",
       "    </tr>\n",
       "    <tr>\n",
       "      <th>15</th>\n",
       "      <td>-0.239050</td>\n",
       "      <td>-0.239050</td>\n",
       "    </tr>\n",
       "    <tr>\n",
       "      <th>16</th>\n",
       "      <td>0.405701</td>\n",
       "      <td>0.405701</td>\n",
       "    </tr>\n",
       "    <tr>\n",
       "      <th>17</th>\n",
       "      <td>0.213990</td>\n",
       "      <td>0.213990</td>\n",
       "    </tr>\n",
       "    <tr>\n",
       "      <th>18</th>\n",
       "      <td>-0.244306</td>\n",
       "      <td>-0.244306</td>\n",
       "    </tr>\n",
       "    <tr>\n",
       "      <th>19</th>\n",
       "      <td>-0.113249</td>\n",
       "      <td>-0.113249</td>\n",
       "    </tr>\n",
       "    <tr>\n",
       "      <th>20</th>\n",
       "      <td>-0.037773</td>\n",
       "      <td>-0.037773</td>\n",
       "    </tr>\n",
       "    <tr>\n",
       "      <th>21</th>\n",
       "      <td>0.314356</td>\n",
       "      <td>0.314356</td>\n",
       "    </tr>\n",
       "    <tr>\n",
       "      <th>22</th>\n",
       "      <td>0.304609</td>\n",
       "      <td>0.304609</td>\n",
       "    </tr>\n",
       "    <tr>\n",
       "      <th>23</th>\n",
       "      <td>0.032709</td>\n",
       "      <td>0.032709</td>\n",
       "    </tr>\n",
       "    <tr>\n",
       "      <th>24</th>\n",
       "      <td>0.062815</td>\n",
       "      <td>0.062815</td>\n",
       "    </tr>\n",
       "    <tr>\n",
       "      <th>25</th>\n",
       "      <td>0.213909</td>\n",
       "      <td>0.213909</td>\n",
       "    </tr>\n",
       "    <tr>\n",
       "      <th>26</th>\n",
       "      <td>-0.370851</td>\n",
       "      <td>-0.370851</td>\n",
       "    </tr>\n",
       "    <tr>\n",
       "      <th>27</th>\n",
       "      <td>0.056331</td>\n",
       "      <td>0.056331</td>\n",
       "    </tr>\n",
       "    <tr>\n",
       "      <th>28</th>\n",
       "      <td>0.374971</td>\n",
       "      <td>0.374971</td>\n",
       "    </tr>\n",
       "    <tr>\n",
       "      <th>29</th>\n",
       "      <td>-0.254354</td>\n",
       "      <td>-0.254354</td>\n",
       "    </tr>\n",
       "    <tr>\n",
       "      <th>...</th>\n",
       "      <td>...</td>\n",
       "      <td>...</td>\n",
       "    </tr>\n",
       "    <tr>\n",
       "      <th>79823</th>\n",
       "      <td>-0.267343</td>\n",
       "      <td>-0.267343</td>\n",
       "    </tr>\n",
       "    <tr>\n",
       "      <th>79824</th>\n",
       "      <td>-0.332710</td>\n",
       "      <td>-0.332710</td>\n",
       "    </tr>\n",
       "    <tr>\n",
       "      <th>79825</th>\n",
       "      <td>-0.101871</td>\n",
       "      <td>-0.101871</td>\n",
       "    </tr>\n",
       "    <tr>\n",
       "      <th>79826</th>\n",
       "      <td>-0.025348</td>\n",
       "      <td>-0.025348</td>\n",
       "    </tr>\n",
       "    <tr>\n",
       "      <th>79827</th>\n",
       "      <td>-0.208984</td>\n",
       "      <td>-0.208984</td>\n",
       "    </tr>\n",
       "    <tr>\n",
       "      <th>79828</th>\n",
       "      <td>-0.208944</td>\n",
       "      <td>-0.208944</td>\n",
       "    </tr>\n",
       "    <tr>\n",
       "      <th>79829</th>\n",
       "      <td>-0.172676</td>\n",
       "      <td>-0.172676</td>\n",
       "    </tr>\n",
       "    <tr>\n",
       "      <th>79830</th>\n",
       "      <td>-0.333153</td>\n",
       "      <td>-0.333153</td>\n",
       "    </tr>\n",
       "    <tr>\n",
       "      <th>79831</th>\n",
       "      <td>0.334776</td>\n",
       "      <td>0.334776</td>\n",
       "    </tr>\n",
       "    <tr>\n",
       "      <th>79832</th>\n",
       "      <td>-0.118223</td>\n",
       "      <td>-0.118223</td>\n",
       "    </tr>\n",
       "    <tr>\n",
       "      <th>79833</th>\n",
       "      <td>0.470746</td>\n",
       "      <td>0.470746</td>\n",
       "    </tr>\n",
       "    <tr>\n",
       "      <th>79834</th>\n",
       "      <td>-0.241466</td>\n",
       "      <td>-0.241466</td>\n",
       "    </tr>\n",
       "    <tr>\n",
       "      <th>79835</th>\n",
       "      <td>0.146347</td>\n",
       "      <td>0.146347</td>\n",
       "    </tr>\n",
       "    <tr>\n",
       "      <th>79836</th>\n",
       "      <td>-0.118243</td>\n",
       "      <td>-0.118243</td>\n",
       "    </tr>\n",
       "    <tr>\n",
       "      <th>79837</th>\n",
       "      <td>-0.058011</td>\n",
       "      <td>-0.058011</td>\n",
       "    </tr>\n",
       "    <tr>\n",
       "      <th>79838</th>\n",
       "      <td>-0.108195</td>\n",
       "      <td>-0.108195</td>\n",
       "    </tr>\n",
       "    <tr>\n",
       "      <th>79839</th>\n",
       "      <td>-0.215086</td>\n",
       "      <td>-0.215086</td>\n",
       "    </tr>\n",
       "    <tr>\n",
       "      <th>79840</th>\n",
       "      <td>0.586458</td>\n",
       "      <td>0.586458</td>\n",
       "    </tr>\n",
       "    <tr>\n",
       "      <th>79841</th>\n",
       "      <td>0.493260</td>\n",
       "      <td>0.493260</td>\n",
       "    </tr>\n",
       "    <tr>\n",
       "      <th>79842</th>\n",
       "      <td>0.310147</td>\n",
       "      <td>0.310147</td>\n",
       "    </tr>\n",
       "    <tr>\n",
       "      <th>79843</th>\n",
       "      <td>-0.277996</td>\n",
       "      <td>-0.277996</td>\n",
       "    </tr>\n",
       "    <tr>\n",
       "      <th>79844</th>\n",
       "      <td>-0.044338</td>\n",
       "      <td>-0.044338</td>\n",
       "    </tr>\n",
       "    <tr>\n",
       "      <th>79845</th>\n",
       "      <td>0.304509</td>\n",
       "      <td>0.304509</td>\n",
       "    </tr>\n",
       "    <tr>\n",
       "      <th>79846</th>\n",
       "      <td>-0.027744</td>\n",
       "      <td>-0.027744</td>\n",
       "    </tr>\n",
       "    <tr>\n",
       "      <th>79847</th>\n",
       "      <td>0.186663</td>\n",
       "      <td>0.186663</td>\n",
       "    </tr>\n",
       "    <tr>\n",
       "      <th>79848</th>\n",
       "      <td>0.031622</td>\n",
       "      <td>0.031622</td>\n",
       "    </tr>\n",
       "    <tr>\n",
       "      <th>79849</th>\n",
       "      <td>0.141574</td>\n",
       "      <td>0.141574</td>\n",
       "    </tr>\n",
       "    <tr>\n",
       "      <th>79850</th>\n",
       "      <td>0.193671</td>\n",
       "      <td>0.193671</td>\n",
       "    </tr>\n",
       "    <tr>\n",
       "      <th>79851</th>\n",
       "      <td>-0.341370</td>\n",
       "      <td>-0.341370</td>\n",
       "    </tr>\n",
       "    <tr>\n",
       "      <th>79852</th>\n",
       "      <td>0.143568</td>\n",
       "      <td>0.143568</td>\n",
       "    </tr>\n",
       "  </tbody>\n",
       "</table>\n",
       "<p>79853 rows × 2 columns</p>\n",
       "</div>"
      ],
      "text/plain": [
       "       Income_x  Income_y\n",
       "0      0.294440  0.294440\n",
       "1      0.214070  0.214070\n",
       "2     -0.251132 -0.251132\n",
       "3      0.083900  0.083900\n",
       "4     -0.020474 -0.020474\n",
       "5      0.147475  0.147475\n",
       "6     -0.182140 -0.182140\n",
       "7     -0.057608 -0.057608\n",
       "8     -0.234257 -0.234257\n",
       "9     -0.204735 -0.204735\n",
       "10    -0.017615 -0.017615\n",
       "11    -0.174770 -0.174770\n",
       "12    -0.365616 -0.365616\n",
       "13    -0.146698 -0.146698\n",
       "14    -0.190779 -0.190779\n",
       "15    -0.239050 -0.239050\n",
       "16     0.405701  0.405701\n",
       "17     0.213990  0.213990\n",
       "18    -0.244306 -0.244306\n",
       "19    -0.113249 -0.113249\n",
       "20    -0.037773 -0.037773\n",
       "21     0.314356  0.314356\n",
       "22     0.304609  0.304609\n",
       "23     0.032709  0.032709\n",
       "24     0.062815  0.062815\n",
       "25     0.213909  0.213909\n",
       "26    -0.370851 -0.370851\n",
       "27     0.056331  0.056331\n",
       "28     0.374971  0.374971\n",
       "29    -0.254354 -0.254354\n",
       "...         ...       ...\n",
       "79823 -0.267343 -0.267343\n",
       "79824 -0.332710 -0.332710\n",
       "79825 -0.101871 -0.101871\n",
       "79826 -0.025348 -0.025348\n",
       "79827 -0.208984 -0.208984\n",
       "79828 -0.208944 -0.208944\n",
       "79829 -0.172676 -0.172676\n",
       "79830 -0.333153 -0.333153\n",
       "79831  0.334776  0.334776\n",
       "79832 -0.118223 -0.118223\n",
       "79833  0.470746  0.470746\n",
       "79834 -0.241466 -0.241466\n",
       "79835  0.146347  0.146347\n",
       "79836 -0.118243 -0.118243\n",
       "79837 -0.058011 -0.058011\n",
       "79838 -0.108195 -0.108195\n",
       "79839 -0.215086 -0.215086\n",
       "79840  0.586458  0.586458\n",
       "79841  0.493260  0.493260\n",
       "79842  0.310147  0.310147\n",
       "79843 -0.277996 -0.277996\n",
       "79844 -0.044338 -0.044338\n",
       "79845  0.304509  0.304509\n",
       "79846 -0.027744 -0.027744\n",
       "79847  0.186663  0.186663\n",
       "79848  0.031622  0.031622\n",
       "79849  0.141574  0.141574\n",
       "79850  0.193671  0.193671\n",
       "79851 -0.341370 -0.341370\n",
       "79852  0.143568  0.143568\n",
       "\n",
       "[79853 rows x 2 columns]"
      ]
     },
     "execution_count": 263,
     "metadata": {},
     "output_type": "execute_result"
    }
   ],
   "source": [
    "merged[[\"Income_x\",\"Income_y\"]]"
   ]
  },
  {
   "cell_type": "code",
   "execution_count": 289,
   "metadata": {
    "collapsed": true
   },
   "outputs": [
    {
     "data": {
      "text/html": [
       "<div>\n",
       "<style scoped>\n",
       "    .dataframe tbody tr th:only-of-type {\n",
       "        vertical-align: middle;\n",
       "    }\n",
       "\n",
       "    .dataframe tbody tr th {\n",
       "        vertical-align: top;\n",
       "    }\n",
       "\n",
       "    .dataframe thead th {\n",
       "        text-align: right;\n",
       "    }\n",
       "</style>\n",
       "<table border=\"1\" class=\"dataframe\">\n",
       "  <thead>\n",
       "    <tr style=\"text-align: right;\">\n",
       "      <th></th>\n",
       "      <th>Income_x</th>\n",
       "      <th>Income_y</th>\n",
       "    </tr>\n",
       "  </thead>\n",
       "  <tbody>\n",
       "    <tr>\n",
       "      <th>0</th>\n",
       "      <td>-0.561222</td>\n",
       "      <td>-0.561222</td>\n",
       "    </tr>\n",
       "    <tr>\n",
       "      <th>1</th>\n",
       "      <td>0.304607</td>\n",
       "      <td>0.304607</td>\n",
       "    </tr>\n",
       "    <tr>\n",
       "      <th>2</th>\n",
       "      <td>-0.062128</td>\n",
       "      <td>-0.062128</td>\n",
       "    </tr>\n",
       "    <tr>\n",
       "      <th>3</th>\n",
       "      <td>-0.293359</td>\n",
       "      <td>-0.293359</td>\n",
       "    </tr>\n",
       "    <tr>\n",
       "      <th>4</th>\n",
       "      <td>-0.010361</td>\n",
       "      <td>-0.010361</td>\n",
       "    </tr>\n",
       "    <tr>\n",
       "      <th>5</th>\n",
       "      <td>0.156558</td>\n",
       "      <td>0.156558</td>\n",
       "    </tr>\n",
       "    <tr>\n",
       "      <th>6</th>\n",
       "      <td>0.685403</td>\n",
       "      <td>0.000685</td>\n",
       "    </tr>\n",
       "    <tr>\n",
       "      <th>7</th>\n",
       "      <td>-0.380908</td>\n",
       "      <td>-0.380908</td>\n",
       "    </tr>\n",
       "    <tr>\n",
       "      <th>8</th>\n",
       "      <td>0.581758</td>\n",
       "      <td>0.581758</td>\n",
       "    </tr>\n",
       "    <tr>\n",
       "      <th>9</th>\n",
       "      <td>1.136800</td>\n",
       "      <td>0.001137</td>\n",
       "    </tr>\n",
       "    <tr>\n",
       "      <th>10</th>\n",
       "      <td>-0.089917</td>\n",
       "      <td>-0.089917</td>\n",
       "    </tr>\n",
       "    <tr>\n",
       "      <th>11</th>\n",
       "      <td>-0.179057</td>\n",
       "      <td>-0.179057</td>\n",
       "    </tr>\n",
       "    <tr>\n",
       "      <th>12</th>\n",
       "      <td>-0.011101</td>\n",
       "      <td>-0.011101</td>\n",
       "    </tr>\n",
       "    <tr>\n",
       "      <th>13</th>\n",
       "      <td>-0.650103</td>\n",
       "      <td>-0.650103</td>\n",
       "    </tr>\n",
       "    <tr>\n",
       "      <th>14</th>\n",
       "      <td>-0.522776</td>\n",
       "      <td>-0.522776</td>\n",
       "    </tr>\n",
       "    <tr>\n",
       "      <th>15</th>\n",
       "      <td>0.637225</td>\n",
       "      <td>0.000637</td>\n",
       "    </tr>\n",
       "    <tr>\n",
       "      <th>16</th>\n",
       "      <td>-0.239705</td>\n",
       "      <td>-0.239705</td>\n",
       "    </tr>\n",
       "    <tr>\n",
       "      <th>17</th>\n",
       "      <td>0.868641</td>\n",
       "      <td>0.000869</td>\n",
       "    </tr>\n",
       "    <tr>\n",
       "      <th>18</th>\n",
       "      <td>0.174727</td>\n",
       "      <td>0.174727</td>\n",
       "    </tr>\n",
       "    <tr>\n",
       "      <th>19</th>\n",
       "      <td>-0.647143</td>\n",
       "      <td>-0.647143</td>\n",
       "    </tr>\n",
       "    <tr>\n",
       "      <th>20</th>\n",
       "      <td>0.112081</td>\n",
       "      <td>0.112081</td>\n",
       "    </tr>\n",
       "    <tr>\n",
       "      <th>21</th>\n",
       "      <td>0.063829</td>\n",
       "      <td>0.063829</td>\n",
       "    </tr>\n",
       "    <tr>\n",
       "      <th>22</th>\n",
       "      <td>-0.611324</td>\n",
       "      <td>-0.611324</td>\n",
       "    </tr>\n",
       "    <tr>\n",
       "      <th>23</th>\n",
       "      <td>-0.272859</td>\n",
       "      <td>-0.272859</td>\n",
       "    </tr>\n",
       "    <tr>\n",
       "      <th>24</th>\n",
       "      <td>0.174986</td>\n",
       "      <td>0.174986</td>\n",
       "    </tr>\n",
       "    <tr>\n",
       "      <th>25</th>\n",
       "      <td>0.237891</td>\n",
       "      <td>0.237891</td>\n",
       "    </tr>\n",
       "    <tr>\n",
       "      <th>26</th>\n",
       "      <td>1.858429</td>\n",
       "      <td>0.001858</td>\n",
       "    </tr>\n",
       "    <tr>\n",
       "      <th>27</th>\n",
       "      <td>-0.359668</td>\n",
       "      <td>-0.359668</td>\n",
       "    </tr>\n",
       "    <tr>\n",
       "      <th>28</th>\n",
       "      <td>-0.250769</td>\n",
       "      <td>-0.250769</td>\n",
       "    </tr>\n",
       "    <tr>\n",
       "      <th>29</th>\n",
       "      <td>-0.150861</td>\n",
       "      <td>-0.150861</td>\n",
       "    </tr>\n",
       "    <tr>\n",
       "      <th>...</th>\n",
       "      <td>...</td>\n",
       "      <td>...</td>\n",
       "    </tr>\n",
       "    <tr>\n",
       "      <th>34194</th>\n",
       "      <td>-0.195042</td>\n",
       "      <td>-0.195042</td>\n",
       "    </tr>\n",
       "    <tr>\n",
       "      <th>34195</th>\n",
       "      <td>0.180018</td>\n",
       "      <td>0.180018</td>\n",
       "    </tr>\n",
       "    <tr>\n",
       "      <th>34196</th>\n",
       "      <td>0.036040</td>\n",
       "      <td>0.036040</td>\n",
       "    </tr>\n",
       "    <tr>\n",
       "      <th>34197</th>\n",
       "      <td>0.441665</td>\n",
       "      <td>0.441665</td>\n",
       "    </tr>\n",
       "    <tr>\n",
       "      <th>34198</th>\n",
       "      <td>-0.545311</td>\n",
       "      <td>-0.545311</td>\n",
       "    </tr>\n",
       "    <tr>\n",
       "      <th>34199</th>\n",
       "      <td>0.729843</td>\n",
       "      <td>0.000730</td>\n",
       "    </tr>\n",
       "    <tr>\n",
       "      <th>34200</th>\n",
       "      <td>0.193228</td>\n",
       "      <td>0.193228</td>\n",
       "    </tr>\n",
       "    <tr>\n",
       "      <th>34201</th>\n",
       "      <td>-0.478854</td>\n",
       "      <td>-0.478854</td>\n",
       "    </tr>\n",
       "    <tr>\n",
       "      <th>34202</th>\n",
       "      <td>-0.361814</td>\n",
       "      <td>-0.361814</td>\n",
       "    </tr>\n",
       "    <tr>\n",
       "      <th>34203</th>\n",
       "      <td>-0.416948</td>\n",
       "      <td>-0.416948</td>\n",
       "    </tr>\n",
       "    <tr>\n",
       "      <th>34204</th>\n",
       "      <td>0.146975</td>\n",
       "      <td>0.146975</td>\n",
       "    </tr>\n",
       "    <tr>\n",
       "      <th>34205</th>\n",
       "      <td>-0.259908</td>\n",
       "      <td>-0.259908</td>\n",
       "    </tr>\n",
       "    <tr>\n",
       "      <th>34206</th>\n",
       "      <td>-0.572656</td>\n",
       "      <td>-0.572656</td>\n",
       "    </tr>\n",
       "    <tr>\n",
       "      <th>34207</th>\n",
       "      <td>0.979427</td>\n",
       "      <td>0.000979</td>\n",
       "    </tr>\n",
       "    <tr>\n",
       "      <th>34208</th>\n",
       "      <td>0.234671</td>\n",
       "      <td>0.234671</td>\n",
       "    </tr>\n",
       "    <tr>\n",
       "      <th>34209</th>\n",
       "      <td>-0.283923</td>\n",
       "      <td>-0.283923</td>\n",
       "    </tr>\n",
       "    <tr>\n",
       "      <th>34210</th>\n",
       "      <td>0.326623</td>\n",
       "      <td>0.326623</td>\n",
       "    </tr>\n",
       "    <tr>\n",
       "      <th>34211</th>\n",
       "      <td>-0.077854</td>\n",
       "      <td>-0.077854</td>\n",
       "    </tr>\n",
       "    <tr>\n",
       "      <th>34212</th>\n",
       "      <td>0.587715</td>\n",
       "      <td>0.587715</td>\n",
       "    </tr>\n",
       "    <tr>\n",
       "      <th>34213</th>\n",
       "      <td>0.118187</td>\n",
       "      <td>0.118187</td>\n",
       "    </tr>\n",
       "    <tr>\n",
       "      <th>34214</th>\n",
       "      <td>-0.278447</td>\n",
       "      <td>-0.278447</td>\n",
       "    </tr>\n",
       "    <tr>\n",
       "      <th>34215</th>\n",
       "      <td>-0.599372</td>\n",
       "      <td>-0.599372</td>\n",
       "    </tr>\n",
       "    <tr>\n",
       "      <th>34216</th>\n",
       "      <td>-0.617578</td>\n",
       "      <td>-0.617578</td>\n",
       "    </tr>\n",
       "    <tr>\n",
       "      <th>34217</th>\n",
       "      <td>-0.616875</td>\n",
       "      <td>-0.616875</td>\n",
       "    </tr>\n",
       "    <tr>\n",
       "      <th>34218</th>\n",
       "      <td>0.896134</td>\n",
       "      <td>0.000896</td>\n",
       "    </tr>\n",
       "    <tr>\n",
       "      <th>34219</th>\n",
       "      <td>-0.342573</td>\n",
       "      <td>-0.342573</td>\n",
       "    </tr>\n",
       "    <tr>\n",
       "      <th>34220</th>\n",
       "      <td>-0.287623</td>\n",
       "      <td>-0.287623</td>\n",
       "    </tr>\n",
       "    <tr>\n",
       "      <th>34221</th>\n",
       "      <td>-0.023127</td>\n",
       "      <td>-0.023127</td>\n",
       "    </tr>\n",
       "    <tr>\n",
       "      <th>34222</th>\n",
       "      <td>0.034523</td>\n",
       "      <td>0.034523</td>\n",
       "    </tr>\n",
       "    <tr>\n",
       "      <th>34223</th>\n",
       "      <td>-0.420464</td>\n",
       "      <td>-0.420464</td>\n",
       "    </tr>\n",
       "  </tbody>\n",
       "</table>\n",
       "<p>34224 rows × 2 columns</p>\n",
       "</div>"
      ],
      "text/plain": [
       "       Income_x  Income_y\n",
       "0     -0.561222 -0.561222\n",
       "1      0.304607  0.304607\n",
       "2     -0.062128 -0.062128\n",
       "3     -0.293359 -0.293359\n",
       "4     -0.010361 -0.010361\n",
       "5      0.156558  0.156558\n",
       "6      0.685403  0.000685\n",
       "7     -0.380908 -0.380908\n",
       "8      0.581758  0.581758\n",
       "9      1.136800  0.001137\n",
       "10    -0.089917 -0.089917\n",
       "11    -0.179057 -0.179057\n",
       "12    -0.011101 -0.011101\n",
       "13    -0.650103 -0.650103\n",
       "14    -0.522776 -0.522776\n",
       "15     0.637225  0.000637\n",
       "16    -0.239705 -0.239705\n",
       "17     0.868641  0.000869\n",
       "18     0.174727  0.174727\n",
       "19    -0.647143 -0.647143\n",
       "20     0.112081  0.112081\n",
       "21     0.063829  0.063829\n",
       "22    -0.611324 -0.611324\n",
       "23    -0.272859 -0.272859\n",
       "24     0.174986  0.174986\n",
       "25     0.237891  0.237891\n",
       "26     1.858429  0.001858\n",
       "27    -0.359668 -0.359668\n",
       "28    -0.250769 -0.250769\n",
       "29    -0.150861 -0.150861\n",
       "...         ...       ...\n",
       "34194 -0.195042 -0.195042\n",
       "34195  0.180018  0.180018\n",
       "34196  0.036040  0.036040\n",
       "34197  0.441665  0.441665\n",
       "34198 -0.545311 -0.545311\n",
       "34199  0.729843  0.000730\n",
       "34200  0.193228  0.193228\n",
       "34201 -0.478854 -0.478854\n",
       "34202 -0.361814 -0.361814\n",
       "34203 -0.416948 -0.416948\n",
       "34204  0.146975  0.146975\n",
       "34205 -0.259908 -0.259908\n",
       "34206 -0.572656 -0.572656\n",
       "34207  0.979427  0.000979\n",
       "34208  0.234671  0.234671\n",
       "34209 -0.283923 -0.283923\n",
       "34210  0.326623  0.326623\n",
       "34211 -0.077854 -0.077854\n",
       "34212  0.587715  0.587715\n",
       "34213  0.118187  0.118187\n",
       "34214 -0.278447 -0.278447\n",
       "34215 -0.599372 -0.599372\n",
       "34216 -0.617578 -0.617578\n",
       "34217 -0.616875 -0.616875\n",
       "34218  0.896134  0.000896\n",
       "34219 -0.342573 -0.342573\n",
       "34220 -0.287623 -0.287623\n",
       "34221 -0.023127 -0.023127\n",
       "34222  0.034523  0.034523\n",
       "34223 -0.420464 -0.420464\n",
       "\n",
       "[34224 rows x 2 columns]"
      ]
     },
     "execution_count": 289,
     "metadata": {},
     "output_type": "execute_result"
    }
   ],
   "source": [
    "mergedt[[\"Income_x\",\"Income_y\"]]"
   ]
  },
  {
   "cell_type": "code",
   "execution_count": null,
   "metadata": {},
   "outputs": [],
   "source": []
  },
  {
   "cell_type": "code",
   "execution_count": 286,
   "metadata": {
    "collapsed": true
   },
   "outputs": [
    {
     "data": {
      "text/plain": [
       "<matplotlib.axes._subplots.AxesSubplot at 0x16646090>"
      ]
     },
     "execution_count": 286,
     "metadata": {},
     "output_type": "execute_result"
    },
    {
     "data": {
      "image/png": "[encoded data removed]",
      "text/plain": [
       "<Figure size 432x288 with 1 Axes>"
      ]
     },
     "metadata": {
      "needs_background": "light"
     },
     "output_type": "display_data"
    }
   ],
   "source": [
    "sns.distplot(np.sqrt(merged[\"Income_y\"]+0.4))"
   ]
  },
  {
   "cell_type": "code",
   "execution_count": 291,
   "metadata": {},
   "outputs": [
    {
     "data": {
      "text/plain": [
       "<matplotlib.axes._subplots.AxesSubplot at 0x167a7fd0>"
      ]
     },
     "execution_count": 291,
     "metadata": {},
     "output_type": "execute_result"
    },
    {
     "data": {
      "image/png": "[encoded data removed]",
      "text/plain": [
       "<Figure size 432x288 with 1 Axes>"
      ]
     },
     "metadata": {
      "needs_background": "light"
     },
     "output_type": "display_data"
    }
   ],
   "source": [
    "sns.distplot(np.sqrt(mergedt[\"Income_y\"]+0.7))"
   ]
  },
  {
   "cell_type": "code",
   "execution_count": 301,
   "metadata": {},
   "outputs": [
    {
     "data": {
      "text/plain": [
       "-9.874317374562581"
      ]
     },
     "execution_count": 301,
     "metadata": {},
     "output_type": "execute_result"
    }
   ],
   "source": [
    "df[\"application_underwriting_score\"].min()"
   ]
  },
  {
   "cell_type": "code",
   "execution_count": 305,
   "metadata": {},
   "outputs": [
    {
     "data": {
      "text/plain": [
       "<matplotlib.axes._subplots.AxesSubplot at 0x18c7eb30>"
      ]
     },
     "execution_count": 305,
     "metadata": {},
     "output_type": "execute_result"
    },
    {
     "data": {
      "image/png": "[encoded data removed]",
      "text/plain": [
       "<Figure size 432x288 with 1 Axes>"
      ]
     },
     "metadata": {
      "needs_background": "light"
     },
     "output_type": "display_data"
    }
   ],
   "source": [
    "sns.distplot(df[\"application_underwriting_score\"])"
   ]
  },
  {
   "cell_type": "code",
   "execution_count": null,
   "metadata": {},
   "outputs": [],
   "source": []
  },
  {
   "cell_type": "code",
   "execution_count": null,
   "metadata": {},
   "outputs": [],
   "source": []
  },
  {
   "cell_type": "markdown",
   "metadata": {},
   "source": [
    "### Baseline Columns"
   ]
  },
  {
   "cell_type": "code",
   "execution_count": 306,
   "metadata": {},
   "outputs": [],
   "source": [
    "df_baseline = df[num_cols]"
   ]
  },
  {
   "cell_type": "code",
   "execution_count": 307,
   "metadata": {},
   "outputs": [],
   "source": [
    "test_dase=test[num_cols]"
   ]
  },
  {
   "cell_type": "markdown",
   "metadata": {},
   "source": [
    "### Train Test Split to create a validation set"
   ]
  },
  {
   "cell_type": "code",
   "execution_count": 308,
   "metadata": {},
   "outputs": [],
   "source": [
    "# Splitting the data into Train and Validation set\n",
    "xtrain, xtest, ytrain, ytest = train_test_split(df_baseline,y_all,test_size=0.30, random_state=11)"
   ]
  },
  {
   "cell_type": "code",
   "execution_count": 309,
   "metadata": {},
   "outputs": [
    {
     "data": {
      "text/plain": [
       "1    74855\n",
       "0     4998\n",
       "Name: target, dtype: int64"
      ]
     },
     "execution_count": 309,
     "metadata": {},
     "output_type": "execute_result"
    }
   ],
   "source": [
    "y_all.value_counts()"
   ]
  },
  {
   "cell_type": "code",
   "execution_count": 310,
   "metadata": {},
   "outputs": [
    {
     "data": {
      "text/plain": [
       "1    22436\n",
       "0     1520\n",
       "Name: target, dtype: int64"
      ]
     },
     "execution_count": 310,
     "metadata": {},
     "output_type": "execute_result"
    }
   ],
   "source": [
    "ytest.value_counts()"
   ]
  },
  {
   "cell_type": "code",
   "execution_count": 311,
   "metadata": {},
   "outputs": [],
   "source": [
    "model = LogisticRegression()\n",
    "model.fit(xtrain,ytrain)\n",
    "pred = model.predict_proba(xtest)[:,1]"
   ]
  },
  {
   "cell_type": "code",
   "execution_count": 312,
   "metadata": {},
   "outputs": [],
   "source": [
    "from sklearn import metrics"
   ]
  },
  {
   "cell_type": "code",
   "execution_count": 313,
   "metadata": {},
   "outputs": [
    {
     "data": {
      "text/plain": [
       "0.8315613534638879"
      ]
     },
     "execution_count": 313,
     "metadata": {},
     "output_type": "execute_result"
    }
   ],
   "source": [
    "metrics.roc_auc_score(ytest, pred)"
   ]
  },
  {
   "cell_type": "markdown",
   "metadata": {},
   "source": [
    "### AUC ROC Curve & Confusion Matrix \n",
    "\n",
    "Now, let us quickly look at the AUC-ROC curve for our logistic regression model and also the confusion matrix to see where the logistic regression model is failing here."
   ]
  },
  {
   "cell_type": "code",
   "execution_count": 314,
   "metadata": {},
   "outputs": [
    {
     "data": {
      "text/plain": [
       "<Figure size 720x720 with 0 Axes>"
      ]
     },
     "metadata": {},
     "output_type": "display_data"
    }
   ],
   "source": [
    "f = plt.figure(figsize=(10,10))\n",
    "gs = f.add_gridspec(2,1)\n",
    "sns.set(font_scale=1.5)"
   ]
  },
  {
   "cell_type": "code",
   "execution_count": 315,
   "metadata": {},
   "outputs": [
    {
     "data": {
      "image/png": "[encoded data removed]",
      "text/plain": [
       "<Figure size 864x576 with 1 Axes>"
      ]
     },
     "metadata": {},
     "output_type": "display_data"
    }
   ],
   "source": [
    "from sklearn.metrics import roc_curve\n",
    "fpr, tpr, _ = roc_curve(ytest,pred) \n",
    "auc = roc_auc_score(ytest, pred) \n",
    "plt.figure(figsize=(12,8)) \n",
    "plt.plot(fpr,tpr,label=\"Validation AUC-ROC=\"+str(auc)) \n",
    "x = np.linspace(0, 1, 1000)\n",
    "plt.plot(x, x, linestyle='-')\n",
    "plt.xlabel('False Positive Rate') \n",
    "plt.ylabel('True Positive Rate') \n",
    "plt.legend(loc=4) \n",
    "plt.show()"
   ]
  },
  {
   "cell_type": "code",
   "execution_count": 316,
   "metadata": {},
   "outputs": [],
   "source": [
    "# Confusion Matrix\n",
    "pred_val = model.predict(xtest)"
   ]
  },
  {
   "cell_type": "code",
   "execution_count": 317,
   "metadata": {},
   "outputs": [
    {
     "data": {
      "image/png": "[encoded data removed]",
      "text/plain": [
       "<Figure size 504x432 with 2 Axes>"
      ]
     },
     "metadata": {},
     "output_type": "display_data"
    }
   ],
   "source": [
    "label_preds = pred_val\n",
    "\n",
    "cm = confusion_matrix(ytest,label_preds)\n",
    "\n",
    "\n",
    "def plot_confusion_matrix(cm, normalized=True, cmap='bone'):\n",
    "    plt.figure(figsize=[7, 6])\n",
    "    norm_cm = cm\n",
    "    if normalized:\n",
    "        norm_cm = cm.astype('float') / cm.sum(axis=1)[:, np.newaxis]\n",
    "        sns.heatmap(norm_cm, annot=cm, fmt='g', xticklabels=['Predicted: No','Predicted: Yes'], yticklabels=['Actual: No','Actual: Yes'], cmap=cmap)\n",
    "\n",
    "plot_confusion_matrix(cm, ['No', 'Yes'])"
   ]
  },
  {
   "cell_type": "code",
   "execution_count": 318,
   "metadata": {},
   "outputs": [
    {
     "data": {
      "text/plain": [
       "0.9937154573007666"
      ]
     },
     "execution_count": 318,
     "metadata": {},
     "output_type": "execute_result"
    }
   ],
   "source": [
    "# Recall Score\n",
    "recall_score(ytest,pred_val)"
   ]
  },
  {
   "cell_type": "code",
   "execution_count": 319,
   "metadata": {},
   "outputs": [],
   "source": [
    "def cv_score(ml_model, rstate = 12, thres = 0.5, cols = df.columns):\n",
    "    i = 1\n",
    "    cv_scores = []\n",
    "    df1 = df.copy()\n",
    "    df1 = df[cols]\n",
    "    \n",
    "    # 5 Fold cross validation stratified on the basis of target\n",
    "    kf = StratifiedKFold(n_splits=5,random_state=rstate,shuffle=True)\n",
    "    for df_index,test_index in kf.split(df1,y_all):\n",
    "        print('\\n{} of kfold {}'.format(i,kf.n_splits))\n",
    "        xtr,xvl = df1.loc[df_index],df1.loc[test_index]\n",
    "        ytr,yvl = y_all.loc[df_index],y_all.loc[test_index]\n",
    "            \n",
    "        # Define model for fitting on the training set for each fold\n",
    "        model = ml_model\n",
    "        model.fit(xtr, ytr)\n",
    "        pred_probs = model.predict_proba(xvl)\n",
    "        pp = []\n",
    "         \n",
    "        # Use threshold to define the classes based on probability values\n",
    "        for j in pred_probs[:,1]:\n",
    "            if j>thres:\n",
    "                pp.append(1)\n",
    "            else:\n",
    "                pp.append(0)\n",
    "         \n",
    "        # Calculate scores for each fold and print\n",
    "        pred_val = pp\n",
    "        roc_score = roc_auc_score(yvl,pred_probs[:,1])\n",
    "        recall = recall_score(yvl,pred_val)\n",
    "        precision = precision_score(yvl,pred_val)\n",
    "        sufix = \"\"\n",
    "        msg = \"\"\n",
    "        msg += \"ROC AUC Score: {}, Recall Score: {:.4f}, Precision Score: {:.4f} \".format(roc_score, recall,precision)\n",
    "        print(\"{}\".format(msg))\n",
    "         \n",
    "         # Save scores\n",
    "        cv_scores.append(roc_score)\n",
    "        i+=1\n",
    "    return cv_scores"
   ]
  },
  {
   "cell_type": "code",
   "execution_count": 320,
   "metadata": {},
   "outputs": [
    {
     "name": "stdout",
     "output_type": "stream",
     "text": [
      "\n",
      "1 of kfold 5\n",
      "ROC AUC Score: 0.8292932335849309, Recall Score: 0.9948, Precision Score: 0.9441 \n",
      "\n",
      "2 of kfold 5\n",
      "ROC AUC Score: 0.8223997728942622, Recall Score: 0.9935, Precision Score: 0.9452 \n",
      "\n",
      "3 of kfold 5\n",
      "ROC AUC Score: 0.8340283882172199, Recall Score: 0.9933, Precision Score: 0.9448 \n",
      "\n",
      "4 of kfold 5\n",
      "ROC AUC Score: 0.8197474075504936, Recall Score: 0.9938, Precision Score: 0.9446 \n",
      "\n",
      "5 of kfold 5\n",
      "ROC AUC Score: 0.8195450142547864, Recall Score: 0.9941, Precision Score: 0.9428 \n"
     ]
    }
   ],
   "source": [
    "baseline_scores = cv_score(LogisticRegression(), cols = num_cols)"
   ]
  },
  {
   "cell_type": "markdown",
   "metadata": {},
   "source": [
    "Now let us try using all columns available to check if we get significant improvement."
   ]
  },
  {
   "cell_type": "code",
   "execution_count": 321,
   "metadata": {},
   "outputs": [
    {
     "name": "stdout",
     "output_type": "stream",
     "text": [
      "\n",
      "1 of kfold 5\n",
      "ROC AUC Score: 0.828829871084096, Recall Score: 0.9947, Precision Score: 0.9440 \n",
      "\n",
      "2 of kfold 5\n",
      "ROC AUC Score: 0.8226285485271525, Recall Score: 0.9935, Precision Score: 0.9450 \n",
      "\n",
      "3 of kfold 5\n",
      "ROC AUC Score: 0.8340455547391623, Recall Score: 0.9931, Precision Score: 0.9448 \n",
      "\n",
      "4 of kfold 5\n",
      "ROC AUC Score: 0.819168778022562, Recall Score: 0.9938, Precision Score: 0.9448 \n",
      "\n",
      "5 of kfold 5\n",
      "ROC AUC Score: 0.8194624388599407, Recall Score: 0.9940, Precision Score: 0.9426 \n"
     ]
    }
   ],
   "source": [
    "all_feat_scores = cv_score(LogisticRegression())"
   ]
  },
  {
   "cell_type": "markdown",
   "metadata": {},
   "source": [
    "There is some improvement in both ROC AUC Scores and Precision/Recall Scores."
   ]
  },
  {
   "cell_type": "code",
   "execution_count": null,
   "metadata": {},
   "outputs": [],
   "source": []
  },
  {
   "cell_type": "code",
   "execution_count": 322,
   "metadata": {},
   "outputs": [],
   "source": [
    "from sklearn.ensemble import RandomForestClassifier"
   ]
  },
  {
   "cell_type": "code",
   "execution_count": 323,
   "metadata": {},
   "outputs": [
    {
     "name": "stdout",
     "output_type": "stream",
     "text": [
      "\n",
      "1 of kfold 5\n",
      "ROC AUC Score: 0.8482037940017367, Recall Score: 0.9980, Precision Score: 0.9408 \n",
      "\n",
      "2 of kfold 5\n",
      "ROC AUC Score: 0.8311894329036136, Recall Score: 0.9973, Precision Score: 0.9414 \n",
      "\n",
      "3 of kfold 5\n",
      "ROC AUC Score: 0.8501365974216819, Recall Score: 0.9977, Precision Score: 0.9410 \n",
      "\n",
      "4 of kfold 5\n",
      "ROC AUC Score: 0.8341566467944131, Recall Score: 0.9979, Precision Score: 0.9413 \n",
      "\n",
      "5 of kfold 5\n",
      "ROC AUC Score: 0.8392944410578503, Recall Score: 0.9973, Precision Score: 0.9408 \n"
     ]
    }
   ],
   "source": [
    "rf_all_features = cv_score(RandomForestClassifier(n_estimators=500, max_depth=8))"
   ]
  },
  {
   "cell_type": "code",
   "execution_count": 324,
   "metadata": {},
   "outputs": [],
   "source": [
    "results_df = pd.DataFrame({'baseline':baseline_scores, 'all_feats': all_feat_scores, 'random_forest': rf_all_features})"
   ]
  },
  {
   "cell_type": "code",
   "execution_count": 325,
   "metadata": {},
   "outputs": [
    {
     "data": {
      "text/plain": [
       "<matplotlib.axes._subplots.AxesSubplot at 0x19c71e10>"
      ]
     },
     "execution_count": 325,
     "metadata": {},
     "output_type": "execute_result"
    },
    {
     "data": {
      "image/png": "[encoded data removed]",
      "text/plain": [
       "<Figure size 432x288 with 1 Axes>"
      ]
     },
     "metadata": {},
     "output_type": "display_data"
    }
   ],
   "source": [
    "results_df.plot(y=[\"baseline\", \"all_feats\", \"random_forest\"], kind=\"bar\")"
   ]
  },
  {
   "cell_type": "code",
   "execution_count": 326,
   "metadata": {},
   "outputs": [],
   "source": [
    "rn=RandomForestClassifier(n_estimators=500, max_depth=8)"
   ]
  },
  {
   "cell_type": "code",
   "execution_count": 327,
   "metadata": {},
   "outputs": [
    {
     "data": {
      "text/plain": [
       "RandomForestClassifier(max_depth=8, n_estimators=500)"
      ]
     },
     "execution_count": 327,
     "metadata": {},
     "output_type": "execute_result"
    }
   ],
   "source": [
    "rn.fit(xtrain, ytrain)"
   ]
  },
  {
   "cell_type": "code",
   "execution_count": 328,
   "metadata": {},
   "outputs": [],
   "source": [
    "pred=rn.predict_proba(xtest)[:,1]"
   ]
  },
  {
   "cell_type": "code",
   "execution_count": 329,
   "metadata": {},
   "outputs": [
    {
     "data": {
      "text/plain": [
       "0.8494766399864878"
      ]
     },
     "execution_count": 329,
     "metadata": {},
     "output_type": "execute_result"
    }
   ],
   "source": [
    "metrics.roc_auc_score(ytest, pred)"
   ]
  },
  {
   "cell_type": "code",
   "execution_count": 330,
   "metadata": {},
   "outputs": [],
   "source": [
    "from sklearn.tree import DecisionTreeClassifier"
   ]
  },
  {
   "cell_type": "code",
   "execution_count": 367,
   "metadata": {},
   "outputs": [],
   "source": [
    "dt=DecisionTreeClassifier(class_weight='balanced', min_samples_leaf=200)"
   ]
  },
  {
   "cell_type": "code",
   "execution_count": 368,
   "metadata": {},
   "outputs": [
    {
     "data": {
      "text/plain": [
       "DecisionTreeClassifier(class_weight='balanced', min_samples_leaf=200)"
      ]
     },
     "execution_count": 368,
     "metadata": {},
     "output_type": "execute_result"
    }
   ],
   "source": [
    "dt.fit(xtrain,ytrain)"
   ]
  },
  {
   "cell_type": "code",
   "execution_count": 369,
   "metadata": {},
   "outputs": [],
   "source": [
    "dty=dt.predict_proba(xtest)[:,1]"
   ]
  },
  {
   "cell_type": "code",
   "execution_count": 370,
   "metadata": {},
   "outputs": [
    {
     "data": {
      "text/plain": [
       "0.8344615913334772"
      ]
     },
     "execution_count": 370,
     "metadata": {},
     "output_type": "execute_result"
    }
   ],
   "source": [
    "metrics.roc_auc_score(ytest, dty)"
   ]
  },
  {
   "cell_type": "code",
   "execution_count": 354,
   "metadata": {},
   "outputs": [],
   "source": [
    "lg = LogisticRegression(solver='liblinear', class_weight='balanced')"
   ]
  },
  {
   "cell_type": "code",
   "execution_count": 355,
   "metadata": {},
   "outputs": [
    {
     "data": {
      "text/plain": [
       "LogisticRegression(class_weight='balanced', solver='liblinear')"
      ]
     },
     "execution_count": 355,
     "metadata": {},
     "output_type": "execute_result"
    }
   ],
   "source": [
    "lg.fit(xtrain, ytrain)"
   ]
  },
  {
   "cell_type": "code",
   "execution_count": 356,
   "metadata": {},
   "outputs": [],
   "source": [
    "lgy=lg.predict_proba(xtest)[:,1]"
   ]
  },
  {
   "cell_type": "code",
   "execution_count": 357,
   "metadata": {},
   "outputs": [
    {
     "data": {
      "text/plain": [
       "0.8374973315911459"
      ]
     },
     "execution_count": 357,
     "metadata": {},
     "output_type": "execute_result"
    }
   ],
   "source": [
    "metrics.roc_auc_score(ytest, lgy)"
   ]
  },
  {
   "cell_type": "code",
   "execution_count": 371,
   "metadata": {},
   "outputs": [],
   "source": [
    "result=rn.predict_proba(test[num_cols])[:,1]"
   ]
  },
  {
   "cell_type": "code",
   "execution_count": null,
   "metadata": {},
   "outputs": [],
   "source": []
  },
  {
   "cell_type": "code",
   "execution_count": 372,
   "metadata": {},
   "outputs": [],
   "source": [
    "testcopy=pd.read_csv('test_LxCaReE_DvdCKVT2_7rMflxW.csv')"
   ]
  },
  {
   "cell_type": "code",
   "execution_count": 373,
   "metadata": {},
   "outputs": [],
   "source": [
    "idd=testcopy[\"id\"]"
   ]
  },
  {
   "cell_type": "code",
   "execution_count": 374,
   "metadata": {},
   "outputs": [
    {
     "data": {
      "text/plain": [
       "0           649\n",
       "1         81136\n",
       "2         70762\n",
       "3         53935\n",
       "4         15476\n",
       "5         64797\n",
       "6         67412\n",
       "7         44241\n",
       "8          5069\n",
       "9         16615\n",
       "10        84281\n",
       "11        82623\n",
       "12        86475\n",
       "13        68263\n",
       "14       113135\n",
       "15        45532\n",
       "16       102161\n",
       "17        84789\n",
       "18        62398\n",
       "19        70148\n",
       "20       102487\n",
       "21       100513\n",
       "22        92702\n",
       "23        25051\n",
       "24        92920\n",
       "25        25520\n",
       "26        81869\n",
       "27        75402\n",
       "28        34053\n",
       "29        21191\n",
       "          ...  \n",
       "34194     79950\n",
       "34195     30272\n",
       "34196     85914\n",
       "34197     10922\n",
       "34198     93046\n",
       "34199     52826\n",
       "34200     35994\n",
       "34201      1512\n",
       "34202     52077\n",
       "34203     95749\n",
       "34204     49946\n",
       "34205     66811\n",
       "34206     53438\n",
       "34207     24435\n",
       "34208     17848\n",
       "34209     53626\n",
       "34210     87268\n",
       "34211     58450\n",
       "34212     48188\n",
       "34213     44239\n",
       "34214     24582\n",
       "34215     79939\n",
       "34216     63759\n",
       "34217     63725\n",
       "34218     37116\n",
       "34219     81988\n",
       "34220     30326\n",
       "34221     65749\n",
       "34222     65686\n",
       "34223     93826\n",
       "Name: id, Length: 34224, dtype: int64"
      ]
     },
     "execution_count": 374,
     "metadata": {},
     "output_type": "execute_result"
    }
   ],
   "source": [
    "idd"
   ]
  },
  {
   "cell_type": "code",
   "execution_count": 375,
   "metadata": {},
   "outputs": [],
   "source": [
    "colls=[\"id\", \"target\"]"
   ]
  },
  {
   "cell_type": "code",
   "execution_count": 376,
   "metadata": {},
   "outputs": [
    {
     "data": {
      "text/plain": [
       "array([0.98485447, 0.98281909, 0.8022347 , ..., 0.96350472, 0.74207637,\n",
       "       0.9536211 ])"
      ]
     },
     "execution_count": 376,
     "metadata": {},
     "output_type": "execute_result"
    }
   ],
   "source": [
    "result"
   ]
  },
  {
   "cell_type": "code",
   "execution_count": 377,
   "metadata": {},
   "outputs": [],
   "source": [
    "submission=pd.DataFrame()"
   ]
  },
  {
   "cell_type": "code",
   "execution_count": 378,
   "metadata": {
    "scrolled": false
   },
   "outputs": [
    {
     "data": {
      "text/html": [
       "<div>\n",
       "<style scoped>\n",
       "    .dataframe tbody tr th:only-of-type {\n",
       "        vertical-align: middle;\n",
       "    }\n",
       "\n",
       "    .dataframe tbody tr th {\n",
       "        vertical-align: top;\n",
       "    }\n",
       "\n",
       "    .dataframe thead th {\n",
       "        text-align: right;\n",
       "    }\n",
       "</style>\n",
       "<table border=\"1\" class=\"dataframe\">\n",
       "  <thead>\n",
       "    <tr style=\"text-align: right;\">\n",
       "      <th></th>\n",
       "    </tr>\n",
       "  </thead>\n",
       "  <tbody>\n",
       "  </tbody>\n",
       "</table>\n",
       "</div>"
      ],
      "text/plain": [
       "Empty DataFrame\n",
       "Columns: []\n",
       "Index: []"
      ]
     },
     "execution_count": 378,
     "metadata": {},
     "output_type": "execute_result"
    }
   ],
   "source": [
    "submission"
   ]
  },
  {
   "cell_type": "code",
   "execution_count": 379,
   "metadata": {},
   "outputs": [],
   "source": [
    "submission[\"id\"]=idd"
   ]
  },
  {
   "cell_type": "code",
   "execution_count": 380,
   "metadata": {},
   "outputs": [],
   "source": [
    "submission[\"target\"]=result"
   ]
  },
  {
   "cell_type": "code",
   "execution_count": 381,
   "metadata": {},
   "outputs": [
    {
     "data": {
      "text/html": [
       "<div>\n",
       "<style scoped>\n",
       "    .dataframe tbody tr th:only-of-type {\n",
       "        vertical-align: middle;\n",
       "    }\n",
       "\n",
       "    .dataframe tbody tr th {\n",
       "        vertical-align: top;\n",
       "    }\n",
       "\n",
       "    .dataframe thead th {\n",
       "        text-align: right;\n",
       "    }\n",
       "</style>\n",
       "<table border=\"1\" class=\"dataframe\">\n",
       "  <thead>\n",
       "    <tr style=\"text-align: right;\">\n",
       "      <th></th>\n",
       "      <th>id</th>\n",
       "      <th>target</th>\n",
       "    </tr>\n",
       "  </thead>\n",
       "  <tbody>\n",
       "    <tr>\n",
       "      <th>0</th>\n",
       "      <td>649</td>\n",
       "      <td>0.984854</td>\n",
       "    </tr>\n",
       "    <tr>\n",
       "      <th>1</th>\n",
       "      <td>81136</td>\n",
       "      <td>0.982819</td>\n",
       "    </tr>\n",
       "    <tr>\n",
       "      <th>2</th>\n",
       "      <td>70762</td>\n",
       "      <td>0.802235</td>\n",
       "    </tr>\n",
       "    <tr>\n",
       "      <th>3</th>\n",
       "      <td>53935</td>\n",
       "      <td>0.975348</td>\n",
       "    </tr>\n",
       "    <tr>\n",
       "      <th>4</th>\n",
       "      <td>15476</td>\n",
       "      <td>0.948986</td>\n",
       "    </tr>\n",
       "    <tr>\n",
       "      <th>5</th>\n",
       "      <td>64797</td>\n",
       "      <td>0.980833</td>\n",
       "    </tr>\n",
       "    <tr>\n",
       "      <th>6</th>\n",
       "      <td>67412</td>\n",
       "      <td>0.846799</td>\n",
       "    </tr>\n",
       "    <tr>\n",
       "      <th>7</th>\n",
       "      <td>44241</td>\n",
       "      <td>0.825009</td>\n",
       "    </tr>\n",
       "    <tr>\n",
       "      <th>8</th>\n",
       "      <td>5069</td>\n",
       "      <td>0.989617</td>\n",
       "    </tr>\n",
       "    <tr>\n",
       "      <th>9</th>\n",
       "      <td>16615</td>\n",
       "      <td>0.988100</td>\n",
       "    </tr>\n",
       "    <tr>\n",
       "      <th>10</th>\n",
       "      <td>84281</td>\n",
       "      <td>0.982322</td>\n",
       "    </tr>\n",
       "    <tr>\n",
       "      <th>11</th>\n",
       "      <td>82623</td>\n",
       "      <td>0.970038</td>\n",
       "    </tr>\n",
       "    <tr>\n",
       "      <th>12</th>\n",
       "      <td>86475</td>\n",
       "      <td>0.593714</td>\n",
       "    </tr>\n",
       "    <tr>\n",
       "      <th>13</th>\n",
       "      <td>68263</td>\n",
       "      <td>0.940589</td>\n",
       "    </tr>\n",
       "    <tr>\n",
       "      <th>14</th>\n",
       "      <td>113135</td>\n",
       "      <td>0.928402</td>\n",
       "    </tr>\n",
       "    <tr>\n",
       "      <th>15</th>\n",
       "      <td>45532</td>\n",
       "      <td>0.976928</td>\n",
       "    </tr>\n",
       "    <tr>\n",
       "      <th>16</th>\n",
       "      <td>102161</td>\n",
       "      <td>0.989538</td>\n",
       "    </tr>\n",
       "    <tr>\n",
       "      <th>17</th>\n",
       "      <td>84789</td>\n",
       "      <td>0.677732</td>\n",
       "    </tr>\n",
       "    <tr>\n",
       "      <th>18</th>\n",
       "      <td>62398</td>\n",
       "      <td>0.974729</td>\n",
       "    </tr>\n",
       "    <tr>\n",
       "      <th>19</th>\n",
       "      <td>70148</td>\n",
       "      <td>0.961279</td>\n",
       "    </tr>\n",
       "    <tr>\n",
       "      <th>20</th>\n",
       "      <td>102487</td>\n",
       "      <td>0.927457</td>\n",
       "    </tr>\n",
       "    <tr>\n",
       "      <th>21</th>\n",
       "      <td>100513</td>\n",
       "      <td>0.916533</td>\n",
       "    </tr>\n",
       "    <tr>\n",
       "      <th>22</th>\n",
       "      <td>92702</td>\n",
       "      <td>0.918967</td>\n",
       "    </tr>\n",
       "    <tr>\n",
       "      <th>23</th>\n",
       "      <td>25051</td>\n",
       "      <td>0.682545</td>\n",
       "    </tr>\n",
       "    <tr>\n",
       "      <th>24</th>\n",
       "      <td>92920</td>\n",
       "      <td>0.988859</td>\n",
       "    </tr>\n",
       "    <tr>\n",
       "      <th>25</th>\n",
       "      <td>25520</td>\n",
       "      <td>0.962465</td>\n",
       "    </tr>\n",
       "    <tr>\n",
       "      <th>26</th>\n",
       "      <td>81869</td>\n",
       "      <td>0.967115</td>\n",
       "    </tr>\n",
       "    <tr>\n",
       "      <th>27</th>\n",
       "      <td>75402</td>\n",
       "      <td>0.976799</td>\n",
       "    </tr>\n",
       "    <tr>\n",
       "      <th>28</th>\n",
       "      <td>34053</td>\n",
       "      <td>0.669213</td>\n",
       "    </tr>\n",
       "    <tr>\n",
       "      <th>29</th>\n",
       "      <td>21191</td>\n",
       "      <td>0.981560</td>\n",
       "    </tr>\n",
       "    <tr>\n",
       "      <th>...</th>\n",
       "      <td>...</td>\n",
       "      <td>...</td>\n",
       "    </tr>\n",
       "    <tr>\n",
       "      <th>34194</th>\n",
       "      <td>79950</td>\n",
       "      <td>0.984937</td>\n",
       "    </tr>\n",
       "    <tr>\n",
       "      <th>34195</th>\n",
       "      <td>30272</td>\n",
       "      <td>0.989357</td>\n",
       "    </tr>\n",
       "    <tr>\n",
       "      <th>34196</th>\n",
       "      <td>85914</td>\n",
       "      <td>0.990998</td>\n",
       "    </tr>\n",
       "    <tr>\n",
       "      <th>34197</th>\n",
       "      <td>10922</td>\n",
       "      <td>0.983279</td>\n",
       "    </tr>\n",
       "    <tr>\n",
       "      <th>34198</th>\n",
       "      <td>93046</td>\n",
       "      <td>0.978975</td>\n",
       "    </tr>\n",
       "    <tr>\n",
       "      <th>34199</th>\n",
       "      <td>52826</td>\n",
       "      <td>0.945316</td>\n",
       "    </tr>\n",
       "    <tr>\n",
       "      <th>34200</th>\n",
       "      <td>35994</td>\n",
       "      <td>0.982516</td>\n",
       "    </tr>\n",
       "    <tr>\n",
       "      <th>34201</th>\n",
       "      <td>1512</td>\n",
       "      <td>0.978266</td>\n",
       "    </tr>\n",
       "    <tr>\n",
       "      <th>34202</th>\n",
       "      <td>52077</td>\n",
       "      <td>0.971663</td>\n",
       "    </tr>\n",
       "    <tr>\n",
       "      <th>34203</th>\n",
       "      <td>95749</td>\n",
       "      <td>0.968794</td>\n",
       "    </tr>\n",
       "    <tr>\n",
       "      <th>34204</th>\n",
       "      <td>49946</td>\n",
       "      <td>0.981002</td>\n",
       "    </tr>\n",
       "    <tr>\n",
       "      <th>34205</th>\n",
       "      <td>66811</td>\n",
       "      <td>0.979674</td>\n",
       "    </tr>\n",
       "    <tr>\n",
       "      <th>34206</th>\n",
       "      <td>53438</td>\n",
       "      <td>0.983827</td>\n",
       "    </tr>\n",
       "    <tr>\n",
       "      <th>34207</th>\n",
       "      <td>24435</td>\n",
       "      <td>0.980837</td>\n",
       "    </tr>\n",
       "    <tr>\n",
       "      <th>34208</th>\n",
       "      <td>17848</td>\n",
       "      <td>0.972344</td>\n",
       "    </tr>\n",
       "    <tr>\n",
       "      <th>34209</th>\n",
       "      <td>53626</td>\n",
       "      <td>0.979460</td>\n",
       "    </tr>\n",
       "    <tr>\n",
       "      <th>34210</th>\n",
       "      <td>87268</td>\n",
       "      <td>0.988833</td>\n",
       "    </tr>\n",
       "    <tr>\n",
       "      <th>34211</th>\n",
       "      <td>58450</td>\n",
       "      <td>0.980173</td>\n",
       "    </tr>\n",
       "    <tr>\n",
       "      <th>34212</th>\n",
       "      <td>48188</td>\n",
       "      <td>0.983630</td>\n",
       "    </tr>\n",
       "    <tr>\n",
       "      <th>34213</th>\n",
       "      <td>44239</td>\n",
       "      <td>0.974216</td>\n",
       "    </tr>\n",
       "    <tr>\n",
       "      <th>34214</th>\n",
       "      <td>24582</td>\n",
       "      <td>0.931049</td>\n",
       "    </tr>\n",
       "    <tr>\n",
       "      <th>34215</th>\n",
       "      <td>79939</td>\n",
       "      <td>0.939283</td>\n",
       "    </tr>\n",
       "    <tr>\n",
       "      <th>34216</th>\n",
       "      <td>63759</td>\n",
       "      <td>0.957099</td>\n",
       "    </tr>\n",
       "    <tr>\n",
       "      <th>34217</th>\n",
       "      <td>63725</td>\n",
       "      <td>0.729068</td>\n",
       "    </tr>\n",
       "    <tr>\n",
       "      <th>34218</th>\n",
       "      <td>37116</td>\n",
       "      <td>0.964276</td>\n",
       "    </tr>\n",
       "    <tr>\n",
       "      <th>34219</th>\n",
       "      <td>81988</td>\n",
       "      <td>0.968075</td>\n",
       "    </tr>\n",
       "    <tr>\n",
       "      <th>34220</th>\n",
       "      <td>30326</td>\n",
       "      <td>0.980735</td>\n",
       "    </tr>\n",
       "    <tr>\n",
       "      <th>34221</th>\n",
       "      <td>65749</td>\n",
       "      <td>0.963505</td>\n",
       "    </tr>\n",
       "    <tr>\n",
       "      <th>34222</th>\n",
       "      <td>65686</td>\n",
       "      <td>0.742076</td>\n",
       "    </tr>\n",
       "    <tr>\n",
       "      <th>34223</th>\n",
       "      <td>93826</td>\n",
       "      <td>0.953621</td>\n",
       "    </tr>\n",
       "  </tbody>\n",
       "</table>\n",
       "<p>34224 rows × 2 columns</p>\n",
       "</div>"
      ],
      "text/plain": [
       "           id    target\n",
       "0         649  0.984854\n",
       "1       81136  0.982819\n",
       "2       70762  0.802235\n",
       "3       53935  0.975348\n",
       "4       15476  0.948986\n",
       "5       64797  0.980833\n",
       "6       67412  0.846799\n",
       "7       44241  0.825009\n",
       "8        5069  0.989617\n",
       "9       16615  0.988100\n",
       "10      84281  0.982322\n",
       "11      82623  0.970038\n",
       "12      86475  0.593714\n",
       "13      68263  0.940589\n",
       "14     113135  0.928402\n",
       "15      45532  0.976928\n",
       "16     102161  0.989538\n",
       "17      84789  0.677732\n",
       "18      62398  0.974729\n",
       "19      70148  0.961279\n",
       "20     102487  0.927457\n",
       "21     100513  0.916533\n",
       "22      92702  0.918967\n",
       "23      25051  0.682545\n",
       "24      92920  0.988859\n",
       "25      25520  0.962465\n",
       "26      81869  0.967115\n",
       "27      75402  0.976799\n",
       "28      34053  0.669213\n",
       "29      21191  0.981560\n",
       "...       ...       ...\n",
       "34194   79950  0.984937\n",
       "34195   30272  0.989357\n",
       "34196   85914  0.990998\n",
       "34197   10922  0.983279\n",
       "34198   93046  0.978975\n",
       "34199   52826  0.945316\n",
       "34200   35994  0.982516\n",
       "34201    1512  0.978266\n",
       "34202   52077  0.971663\n",
       "34203   95749  0.968794\n",
       "34204   49946  0.981002\n",
       "34205   66811  0.979674\n",
       "34206   53438  0.983827\n",
       "34207   24435  0.980837\n",
       "34208   17848  0.972344\n",
       "34209   53626  0.979460\n",
       "34210   87268  0.988833\n",
       "34211   58450  0.980173\n",
       "34212   48188  0.983630\n",
       "34213   44239  0.974216\n",
       "34214   24582  0.931049\n",
       "34215   79939  0.939283\n",
       "34216   63759  0.957099\n",
       "34217   63725  0.729068\n",
       "34218   37116  0.964276\n",
       "34219   81988  0.968075\n",
       "34220   30326  0.980735\n",
       "34221   65749  0.963505\n",
       "34222   65686  0.742076\n",
       "34223   93826  0.953621\n",
       "\n",
       "[34224 rows x 2 columns]"
      ]
     },
     "execution_count": 381,
     "metadata": {},
     "output_type": "execute_result"
    }
   ],
   "source": [
    "submission"
   ]
  },
  {
   "cell_type": "code",
   "execution_count": 382,
   "metadata": {},
   "outputs": [],
   "source": [
    "submission.to_csv(\"submission.csv\", index=False)"
   ]
  },
  {
   "cell_type": "code",
   "execution_count": null,
   "metadata": {},
   "outputs": [],
   "source": []
  },
  {
   "cell_type": "code",
   "execution_count": null,
   "metadata": {},
   "outputs": [],
   "source": []
  }
 ],
 "metadata": {
  "kernelspec": {
   "display_name": "Python 3",
   "language": "python",
   "name": "python3"
  },
  "language_info": {
   "codemirror_mode": {
    "name": "ipython",
    "version": 3
   },
   "file_extension": ".py",
   "mimetype": "text/x-python",
   "name": "python",
   "nbconvert_exporter": "python",
   "pygments_lexer": "ipython3",
   "version": "3.7.3"
  }
 },
 "nbformat": 4,
 "nbformat_minor": 2
}
